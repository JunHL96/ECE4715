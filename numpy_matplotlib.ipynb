{
  "cells": [
    {
      "cell_type": "markdown",
      "metadata": {
        "id": "f67f1J7ib__k"
      },
      "source": [
        "# [NumPy](https://numpy.org/)\n",
        "\n",
        "Short for \"Numerical Python,\" is a fundamental Python library for numerical and scientific computing. It provides support for creating and manipulating arrays of data, which are essential for tasks such as numerical calculations, data analysis, and machine learning. NumPy's key features include efficient array operations, a wide range of mathematical functions, broadcasting for element-wise operations on arrays of different shapes, and seamless integration with other scientific libraries.\n",
        "\n",
        "If you are coming from Matlab [this](https://numpy.org/doc/stable/user/numpy-for-matlab-users.html) article might be a good starting point.\n",
        "\n",
        "The following is a Numpy quickstart guide"
      ]
    },
    {
      "cell_type": "markdown",
      "metadata": {
        "id": "FgRtwpfkWnT3"
      },
      "source": [
        "## The Basics\n",
        "\n",
        "In NumPy, the primary class is `ndarray`, often simply referred to as `array`. This class is responsible for handling homogeneous N-dimensional arrays. Here are some essential attributes of the `ndarray` class:\n",
        "\n",
        "- `ndarray.ndim`: Indicates the number of dimensions (axes) of the array.\n",
        "- `ndarray.shape`: A tuple that specifies the size of the array in each dimension.\n",
        "- `ndarray.size`: Represents the total number of elements within the array, which is the product of the elements of `ndarray.shape`.\n",
        "- `ndarray.dtype`: Specifies the data type of the elements contained in the array (e.g., `numpy.int32`, `numpy.float64`, etc.).\n",
        "- `ndarray.data`: This attribute contains the actual elements of the array, but typically, you'll access these elements through slicing operations, making direct use of this attribute unnecessary."
      ]
    },
    {
      "cell_type": "code",
      "execution_count": 1,
      "metadata": {
        "id": "ca-fLPw6p1n-"
      },
      "outputs": [],
      "source": [
        "import numpy as np"
      ]
    },
    {
      "cell_type": "markdown",
      "metadata": {
        "id": "2buAPgB0lo0K"
      },
      "source": [
        "### Array Creation\n",
        "\n",
        "There are various methods for creating arrays in NumPy. You can begin by converting a standard Python sequence, such as a list or tuple, into a NumPy array. Additionally, you can generate arrays filled with ones, zeros, random numbers, or a sorted sequence of numbers."
      ]
    },
    {
      "cell_type": "markdown",
      "metadata": {
        "id": "1WJMaHHVtFzU"
      },
      "source": [
        "#### Using `array`"
      ]
    },
    {
      "cell_type": "code",
      "execution_count": 2,
      "metadata": {
        "colab": {
          "base_uri": "https://localhost:8080/"
        },
        "id": "6rV7eOmAiGoz",
        "outputId": "9e02f535-a996-4462-8c7a-9d991ce30196"
      },
      "outputs": [
        {
          "output_type": "execute_result",
          "data": {
            "text/plain": [
              "list"
            ]
          },
          "metadata": {},
          "execution_count": 2
        }
      ],
      "source": [
        "l = [1, 2, 3]\n",
        "type(l)\n"
      ]
    },
    {
      "cell_type": "code",
      "execution_count": 3,
      "metadata": {
        "colab": {
          "base_uri": "https://localhost:8080/"
        },
        "id": "4Sq2PCynqe3d",
        "outputId": "12f82c19-9247-4022-8f7b-f3a546226f82"
      },
      "outputs": [
        {
          "output_type": "execute_result",
          "data": {
            "text/plain": [
              "array([1, 2, 3])"
            ]
          },
          "metadata": {},
          "execution_count": 3
        }
      ],
      "source": [
        "v = np.array(l)\n",
        "v   # v is an object of a class ndarray b/c it has the attributes ndim, shape, size, dtype"
      ]
    },
    {
      "cell_type": "code",
      "execution_count": 4,
      "metadata": {
        "colab": {
          "base_uri": "https://localhost:8080/"
        },
        "id": "PRd1f0jzrCxP",
        "outputId": "e99dbb19-8bc8-44da-c4c9-66d2b0dcb945"
      },
      "outputs": [
        {
          "output_type": "execute_result",
          "data": {
            "text/plain": [
              "numpy.ndarray"
            ]
          },
          "metadata": {},
          "execution_count": 4
        }
      ],
      "source": [
        "type(v)"
      ]
    },
    {
      "cell_type": "code",
      "execution_count": 5,
      "metadata": {
        "colab": {
          "base_uri": "https://localhost:8080/"
        },
        "id": "Q5yZ_7zeql6W",
        "outputId": "f20d94cf-b1e9-4188-ffd0-d10b5d53c3ea"
      },
      "outputs": [
        {
          "output_type": "execute_result",
          "data": {
            "text/plain": [
              "1"
            ]
          },
          "metadata": {},
          "execution_count": 5
        }
      ],
      "source": [
        "v.ndim"
      ]
    },
    {
      "cell_type": "code",
      "execution_count": 6,
      "metadata": {
        "colab": {
          "base_uri": "https://localhost:8080/"
        },
        "id": "qvHxU7qwqq0f",
        "outputId": "bf602579-68d5-42a2-89f1-5b471a26718b"
      },
      "outputs": [
        {
          "output_type": "execute_result",
          "data": {
            "text/plain": [
              "(3,)"
            ]
          },
          "metadata": {},
          "execution_count": 6
        }
      ],
      "source": [
        "v.shape"
      ]
    },
    {
      "cell_type": "code",
      "execution_count": 7,
      "metadata": {
        "colab": {
          "base_uri": "https://localhost:8080/"
        },
        "id": "Vv0zETP3qvYJ",
        "outputId": "617842a8-becb-4d1c-f2f1-b84cc28dbada"
      },
      "outputs": [
        {
          "output_type": "execute_result",
          "data": {
            "text/plain": [
              "3"
            ]
          },
          "metadata": {},
          "execution_count": 7
        }
      ],
      "source": [
        "v.size"
      ]
    },
    {
      "cell_type": "code",
      "execution_count": 8,
      "metadata": {
        "colab": {
          "base_uri": "https://localhost:8080/"
        },
        "id": "irAvkKE6qwmg",
        "outputId": "47a0dfc8-73d5-4d7e-948b-ce3ed53430ee"
      },
      "outputs": [
        {
          "output_type": "execute_result",
          "data": {
            "text/plain": [
              "dtype('int64')"
            ]
          },
          "metadata": {},
          "execution_count": 8
        }
      ],
      "source": [
        "v.dtype"
      ]
    },
    {
      "cell_type": "markdown",
      "metadata": {
        "id": "7RkJw1yFrSkm"
      },
      "source": [
        "If the Python sequence is nested, such as a list of lists, the `array` function will transform it into a multidimensional array in NumPy."
      ]
    },
    {
      "cell_type": "code",
      "execution_count": 9,
      "metadata": {
        "colab": {
          "base_uri": "https://localhost:8080/"
        },
        "id": "P-teBGNuqzKy",
        "outputId": "085b3bc5-264f-4cda-f268-977e37822638"
      },
      "outputs": [
        {
          "output_type": "stream",
          "name": "stdout",
          "text": [
            "dimensions: 2 \n",
            "shape: (2, 3) \n",
            "size: 6\n"
          ]
        }
      ],
      "source": [
        "m = np.array(\n",
        "    [[1, 2, 3],\n",
        "     [4, 5, 6]]\n",
        ")\n",
        "\n",
        "print(f\"dimensions: {m.ndim} \\nshape: {m.shape} \\nsize: {m.size}\")"
      ]
    },
    {
      "cell_type": "code",
      "execution_count": 10,
      "metadata": {
        "colab": {
          "base_uri": "https://localhost:8080/"
        },
        "id": "RG_9YDElsV2k",
        "outputId": "56864b89-6446-4b8f-9041-e5e18f0e8452"
      },
      "outputs": [
        {
          "output_type": "stream",
          "name": "stdout",
          "text": [
            "dimensions: 3 \n",
            "shape: (2, 2, 2) \n",
            "size: 8\n"
          ]
        }
      ],
      "source": [
        "t = np.array(\n",
        "    [[[1, 2],\n",
        "      [4, 5]],\n",
        "\n",
        "     [[10, 20],\n",
        "      [40, 50]]\n",
        "     ]\n",
        ")\n",
        "\n",
        "print(f\"dimensions: {t.ndim} \\nshape: {t.shape} \\nsize: {t.size}\")"
      ]
    },
    {
      "cell_type": "code",
      "execution_count": 11,
      "metadata": {
        "colab": {
          "base_uri": "https://localhost:8080/"
        },
        "id": "hmzSd5b3iGo1",
        "outputId": "f96414d1-e303-45ab-f65c-bd2ca0bcae0d"
      },
      "outputs": [
        {
          "output_type": "execute_result",
          "data": {
            "text/plain": [
              "array([[[ 1,  2],\n",
              "        [ 4,  5]],\n",
              "\n",
              "       [[10, 20],\n",
              "        [40, 50]]])"
            ]
          },
          "metadata": {},
          "execution_count": 11
        }
      ],
      "source": [
        "t"
      ]
    },
    {
      "cell_type": "markdown",
      "metadata": {
        "id": "03TcOQn2tKBE"
      },
      "source": [
        "#### Using placeholder functions\n",
        "\n",
        "Typically useful to avoid growing arrays (which are expensive)"
      ]
    },
    {
      "cell_type": "code",
      "execution_count": 12,
      "metadata": {
        "colab": {
          "base_uri": "https://localhost:8080/"
        },
        "id": "ypPWaQX4s7oS",
        "outputId": "a9fc3757-5ea5-4b52-c780-5c9dcba8342c"
      },
      "outputs": [
        {
          "output_type": "execute_result",
          "data": {
            "text/plain": [
              "array([[[0., 0., 0.],\n",
              "        [0., 0., 0.],\n",
              "        [0., 0., 0.]],\n",
              "\n",
              "       [[0., 0., 0.],\n",
              "        [0., 0., 0.],\n",
              "        [0., 0., 0.]]])"
            ]
          },
          "metadata": {},
          "execution_count": 12
        }
      ],
      "source": [
        "z = np.zeros((2, 3, 3))\n",
        "\n",
        "z\n",
        "# print(f\"dimensions: {z.ndim} \\nshape: {z.shape} \\nsize: {z.size}\")"
      ]
    },
    {
      "cell_type": "code",
      "execution_count": 13,
      "metadata": {
        "colab": {
          "base_uri": "https://localhost:8080/"
        },
        "id": "5mkUUTYPtiXX",
        "outputId": "ad63ffaa-6ceb-4381-ee93-fdf85bd2c465"
      },
      "outputs": [
        {
          "output_type": "execute_result",
          "data": {
            "text/plain": [
              "array([[[1., 1., 1., 1., 1., 1., 1.],\n",
              "        [1., 1., 1., 1., 1., 1., 1.],\n",
              "        [1., 1., 1., 1., 1., 1., 1.],\n",
              "        [1., 1., 1., 1., 1., 1., 1.],\n",
              "        [1., 1., 1., 1., 1., 1., 1.],\n",
              "        [1., 1., 1., 1., 1., 1., 1.]],\n",
              "\n",
              "       [[1., 1., 1., 1., 1., 1., 1.],\n",
              "        [1., 1., 1., 1., 1., 1., 1.],\n",
              "        [1., 1., 1., 1., 1., 1., 1.],\n",
              "        [1., 1., 1., 1., 1., 1., 1.],\n",
              "        [1., 1., 1., 1., 1., 1., 1.],\n",
              "        [1., 1., 1., 1., 1., 1., 1.]],\n",
              "\n",
              "       [[1., 1., 1., 1., 1., 1., 1.],\n",
              "        [1., 1., 1., 1., 1., 1., 1.],\n",
              "        [1., 1., 1., 1., 1., 1., 1.],\n",
              "        [1., 1., 1., 1., 1., 1., 1.],\n",
              "        [1., 1., 1., 1., 1., 1., 1.],\n",
              "        [1., 1., 1., 1., 1., 1., 1.]],\n",
              "\n",
              "       [[1., 1., 1., 1., 1., 1., 1.],\n",
              "        [1., 1., 1., 1., 1., 1., 1.],\n",
              "        [1., 1., 1., 1., 1., 1., 1.],\n",
              "        [1., 1., 1., 1., 1., 1., 1.],\n",
              "        [1., 1., 1., 1., 1., 1., 1.],\n",
              "        [1., 1., 1., 1., 1., 1., 1.]],\n",
              "\n",
              "       [[1., 1., 1., 1., 1., 1., 1.],\n",
              "        [1., 1., 1., 1., 1., 1., 1.],\n",
              "        [1., 1., 1., 1., 1., 1., 1.],\n",
              "        [1., 1., 1., 1., 1., 1., 1.],\n",
              "        [1., 1., 1., 1., 1., 1., 1.],\n",
              "        [1., 1., 1., 1., 1., 1., 1.]]])"
            ]
          },
          "metadata": {},
          "execution_count": 13
        }
      ],
      "source": [
        "o = np.ones((5, 6, 7))\n",
        "\n",
        "o"
      ]
    },
    {
      "cell_type": "code",
      "execution_count": 14,
      "metadata": {
        "colab": {
          "base_uri": "https://localhost:8080/"
        },
        "id": "TzTfU5G4tqkk",
        "outputId": "9748e9df-9926-40c0-c049-f788377edd9c"
      },
      "outputs": [
        {
          "output_type": "execute_result",
          "data": {
            "text/plain": [
              "array([[[6.93561948e-310, 0.00000000e+000, 0.00000000e+000],\n",
              "        [0.00000000e+000, 0.00000000e+000, 0.00000000e+000]],\n",
              "\n",
              "       [[0.00000000e+000, 0.00000000e+000, 0.00000000e+000],\n",
              "        [0.00000000e+000, 0.00000000e+000, 0.00000000e+000]]])"
            ]
          },
          "metadata": {},
          "execution_count": 14
        }
      ],
      "source": [
        "e = np.empty((2, 2, 3))\n",
        "\n",
        "e #contains random numbers depending on the state of memory"
      ]
    },
    {
      "cell_type": "code",
      "execution_count": 15,
      "metadata": {
        "colab": {
          "base_uri": "https://localhost:8080/"
        },
        "id": "D3FTHDZQu_Pa",
        "outputId": "ecf0c0dd-6aca-439e-e4a4-310f03a0eb5c"
      },
      "outputs": [
        {
          "output_type": "execute_result",
          "data": {
            "text/plain": [
              "array([[0.76432405, 0.37602492, 0.14648987, 0.76532632],\n",
              "       [0.2275224 , 0.60666423, 0.96108629, 0.42298995],\n",
              "       [0.72884677, 0.38400896, 0.18223888, 0.68632893]])"
            ]
          },
          "metadata": {},
          "execution_count": 15
        }
      ],
      "source": [
        "\n",
        "\n",
        "ra = np.random.rand(3, 4) # random numbers uniformly distributed between 0 and 1\n",
        "\n",
        "ra"
      ]
    },
    {
      "cell_type": "code",
      "execution_count": 16,
      "metadata": {
        "colab": {
          "base_uri": "https://localhost:8080/"
        },
        "id": "Jj9tlBWvvLTA",
        "outputId": "e5979132-56fe-4454-df61-f93001478fbd"
      },
      "outputs": [
        {
          "output_type": "execute_result",
          "data": {
            "text/plain": [
              "array([[-0.16817347,  0.48290103,  0.99829844,  0.68517994],\n",
              "       [-2.21320849, -1.04467199, -0.43424132, -0.54421245],\n",
              "       [-0.25160084,  0.89697587, -0.51539073, -0.99126975]])"
            ]
          },
          "metadata": {},
          "execution_count": 16
        }
      ],
      "source": [
        "ra = np.random.randn(3, 4) # random numbers normally distributed (mean = 0, std = 1)\n",
        "\n",
        "ra"
      ]
    },
    {
      "cell_type": "code",
      "execution_count": 17,
      "metadata": {
        "colab": {
          "base_uri": "https://localhost:8080/"
        },
        "id": "Zy-bqoA9iGo1",
        "outputId": "eb1a74a8-1ece-41fa-9aeb-fc4c02ad659d"
      },
      "outputs": [
        {
          "output_type": "execute_result",
          "data": {
            "text/plain": [
              "array([[4, 4, 3, 2],\n",
              "       [4, 5, 1, 4],\n",
              "       [5, 2, 4, 3]])"
            ]
          },
          "metadata": {},
          "execution_count": 17
        }
      ],
      "source": [
        "ra = np.random.randint(1, 6, (3, 4)) # random integers between 1 and 6\n",
        "\n",
        "ra"
      ]
    },
    {
      "cell_type": "code",
      "execution_count": 18,
      "metadata": {
        "colab": {
          "base_uri": "https://localhost:8080/"
        },
        "id": "UJB01M8JvNLs",
        "outputId": "3b31f9f4-f38e-4316-b6c8-b01dfff3f582"
      },
      "outputs": [
        {
          "output_type": "execute_result",
          "data": {
            "text/plain": [
              "array([[9.15383051, 9.55336471, 7.14344754, 5.16822501],\n",
              "       [8.03493534, 9.65826737, 7.61799945, 8.65265309],\n",
              "       [8.99846635, 9.27192577, 6.89451178, 6.0522965 ]])"
            ]
          },
          "metadata": {},
          "execution_count": 18
        }
      ],
      "source": [
        "ra = np.random.uniform(5, 10, (3, 4)) # random numbers uniformly distributed between 5 and 10; it's like rolling a dice - all 1/6\n",
        "\n",
        "ra"
      ]
    },
    {
      "cell_type": "code",
      "execution_count": 19,
      "metadata": {
        "colab": {
          "base_uri": "https://localhost:8080/"
        },
        "id": "adRL3WMZuDMf",
        "outputId": "b50e7bb7-1bb5-4161-d4e9-c48f13a59f06"
      },
      "outputs": [
        {
          "output_type": "execute_result",
          "data": {
            "text/plain": [
              "array([[1., 0., 0., 0.],\n",
              "       [0., 1., 0., 0.],\n",
              "       [0., 0., 1., 0.],\n",
              "       [0., 0., 0., 1.]])"
            ]
          },
          "metadata": {},
          "execution_count": 19
        }
      ],
      "source": [
        "i = np.eye(4)\n",
        "\n",
        "i"
      ]
    },
    {
      "cell_type": "code",
      "execution_count": 20,
      "metadata": {
        "colab": {
          "base_uri": "https://localhost:8080/"
        },
        "id": "JE4t3NXWuI6o",
        "outputId": "7fb96cfe-0ac7-49a4-a440-f0715e5bb753"
      },
      "outputs": [
        {
          "output_type": "execute_result",
          "data": {
            "text/plain": [
              "array([[1, 0, 0, 0],\n",
              "       [0, 2, 0, 0],\n",
              "       [0, 0, 3, 0],\n",
              "       [0, 0, 0, 4]])"
            ]
          },
          "metadata": {},
          "execution_count": 20
        }
      ],
      "source": [
        "d = np.diag([1, 2, 3, 4])\n",
        "\n",
        "d\n"
      ]
    },
    {
      "cell_type": "code",
      "execution_count": 21,
      "metadata": {
        "colab": {
          "base_uri": "https://localhost:8080/"
        },
        "id": "h12B5XhDuN9x",
        "outputId": "f060b3bb-3e00-4a3f-aa79-5927bb4f4691"
      },
      "outputs": [
        {
          "output_type": "execute_result",
          "data": {
            "text/plain": [
              "array([10. , 10.5, 11. , 11.5, 12. , 12.5, 13. , 13.5, 14. , 14.5, 15. ,\n",
              "       15.5, 16. , 16.5, 17. , 17.5, 18. , 18.5, 19. , 19.5])"
            ]
          },
          "metadata": {},
          "execution_count": 21
        }
      ],
      "source": [
        "# arange generates a range (start, stop, step). Typically difficult to know for sure the number of elements\n",
        "r = np.arange(10, 20, 0.5)\n",
        "\n",
        "r"
      ]
    },
    {
      "cell_type": "code",
      "execution_count": 22,
      "metadata": {
        "colab": {
          "base_uri": "https://localhost:8080/"
        },
        "id": "T9-0dLDeiGo1",
        "outputId": "4e304b62-ef0d-4f78-cf5e-ec71c0ae51fe"
      },
      "outputs": [
        {
          "output_type": "execute_result",
          "data": {
            "text/plain": [
              "(20,)"
            ]
          },
          "metadata": {},
          "execution_count": 22
        }
      ],
      "source": [
        "r.shape"
      ]
    },
    {
      "cell_type": "code",
      "execution_count": 23,
      "metadata": {
        "colab": {
          "base_uri": "https://localhost:8080/"
        },
        "id": "jflrw3zTunPD",
        "outputId": "96fcba5d-09a4-4823-c50c-76aeeb9adf17"
      },
      "outputs": [
        {
          "output_type": "execute_result",
          "data": {
            "text/plain": [
              "array([10.        , 10.45454545, 10.90909091, 11.36363636, 11.81818182,\n",
              "       12.27272727, 12.72727273, 13.18181818, 13.63636364, 14.09090909,\n",
              "       14.54545455, 15.        , 15.45454545, 15.90909091, 16.36363636,\n",
              "       16.81818182, 17.27272727, 17.72727273, 18.18181818, 18.63636364,\n",
              "       19.09090909, 19.54545455, 20.        ])"
            ]
          },
          "metadata": {},
          "execution_count": 23
        }
      ],
      "source": [
        "# if you want a specific number of elements use linspace\n",
        "\n",
        "l = np.linspace(10, 20, 23) # this doesn't control step size but number of elements\n",
        "\n",
        "l"
      ]
    },
    {
      "cell_type": "code",
      "execution_count": 24,
      "metadata": {
        "colab": {
          "base_uri": "https://localhost:8080/"
        },
        "id": "Ml60-Y46u0mH",
        "outputId": "8dc37a9e-504e-4647-e950-293a3f354683"
      },
      "outputs": [
        {
          "output_type": "execute_result",
          "data": {
            "text/plain": [
              "(23,)"
            ]
          },
          "metadata": {},
          "execution_count": 24
        }
      ],
      "source": [
        "l.shape"
      ]
    },
    {
      "cell_type": "code",
      "execution_count": 25,
      "metadata": {
        "colab": {
          "base_uri": "https://localhost:8080/",
          "height": 472
        },
        "id": "BATrO40miGo1",
        "outputId": "c9ec5e23-4831-477f-c104-30e7cf6acdf0"
      },
      "outputs": [
        {
          "output_type": "display_data",
          "data": {
            "text/plain": [
              "<Figure size 640x480 with 1 Axes>"
            ],
            "image/png": "[encoded data removed]"
          },
          "metadata": {}
        }
      ],
      "source": [
        "import matplotlib.pyplot as plt\n",
        "import numpy as np\n",
        "\n",
        "# Generate data\n",
        "x = np.linspace(-10, 10, 50)  # 50 points between -10 and 10\n",
        "y = x ** 2 - 5\n",
        "\n",
        "# Create the plot\n",
        "plt.plot(x, y, 'r*')\n",
        "\n",
        "# Customize the plot\n",
        "plt.grid(True)\n",
        "plt.xlabel(\"$x$\")\n",
        "plt.ylabel(\"$y$\")\n",
        "plt.title(\"A simple quadratic function\")\n",
        "plt.legend([\"Red\"], loc=\"upper center\")\n",
        "plt.xlim(-10, 10)\n",
        "\n",
        "# Save the plot as an EPS file\n",
        "# plt.savefig('quadratic_function.eps', format='eps')\n",
        "\n",
        "# Show the plot\n",
        "plt.show()"
      ]
    },
    {
      "cell_type": "code",
      "execution_count": 26,
      "metadata": {
        "colab": {
          "base_uri": "https://localhost:8080/",
          "height": 507
        },
        "id": "ldqjkU33iGo2",
        "outputId": "e76241c2-d6bf-4fae-b557-f4ef1ef9a898"
      },
      "outputs": [
        {
          "output_type": "stream",
          "name": "stderr",
          "text": [
            "<ipython-input-26-95686daf5c96>:9: RuntimeWarning: invalid value encountered in log\n",
            "  plt.plot(x, x**2, 'r*', x**3, \"m--\", np.log(x), \"g-\")\n"
          ]
        },
        {
          "output_type": "display_data",
          "data": {
            "text/plain": [
              "<Figure size 640x480 with 1 Axes>"
            ],
            "image/png": "[encoded data removed]"
          },
          "metadata": {}
        }
      ],
      "source": [
        "import matplotlib.pyplot as plt\n",
        "import numpy as np\n",
        "\n",
        "# Generate data\n",
        "x = np.linspace(-10, 10, 50)  # 50 points between -10 and 10\n",
        "y = x ** 2 - 5\n",
        "\n",
        "# Create the plot\n",
        "plt.plot(x, x**2, 'r*', x**3, \"m--\", np.log(x), \"g-\")\n",
        "\n",
        "# Customize the plot\n",
        "plt.grid(True)\n",
        "plt.xlabel(\"$x$\")\n",
        "plt.ylabel(\"$y$\")\n",
        "plt.title(\"A simple quadratic function\")\n",
        "plt.legend([\"Red\"], loc=\"upper center\")\n",
        "#plt.xlim(-10, 10)\n",
        "\n",
        "# Save the plot as an EPS file\n",
        "# plt.savefig('quadratic_function.eps', format='eps')\n",
        "\n",
        "# Show the plot\n",
        "plt.show()"
      ]
    },
    {
      "cell_type": "markdown",
      "metadata": {
        "id": "dMqRyh8-wtIg"
      },
      "source": [
        "## Why use NumPy arrays?\n",
        "\n",
        "Although you can use Python lists for computation, they tend to be considerably slower. NumPy arrays are specifically designed for faster and more efficient computations, often eliminating the need for explicit loops. To appreciate the performance difference, examine the timing of the code cells below to compare the two approaches."
      ]
    },
    {
      "cell_type": "code",
      "execution_count": 27,
      "metadata": {
        "id": "_TMspb72xNno"
      },
      "outputs": [],
      "source": [
        "np.random.seed(42)\n",
        "\n",
        "np_x = np.random.rand(100_000_000)\n",
        "list_x = list(np_x)\n",
        "\n",
        "result1 = np.empty(np_x.shape)\n",
        "result2 = np.empty(np_x.shape)\n",
        "result3 = []"
      ]
    },
    {
      "cell_type": "code",
      "execution_count": 28,
      "metadata": {
        "id": "AVCcf7GeiGo2"
      },
      "outputs": [],
      "source": [
        "for i, x in enumerate(np_x):\n",
        "    result1[i] = x ** 3"
      ]
    },
    {
      "cell_type": "code",
      "execution_count": 29,
      "metadata": {
        "id": "E21FbTNCiGo2"
      },
      "outputs": [],
      "source": [
        "result2 = np_x ** 3 # vectorized operation is much faster than looping"
      ]
    },
    {
      "cell_type": "code",
      "execution_count": 30,
      "metadata": {
        "colab": {
          "base_uri": "https://localhost:8080/"
        },
        "id": "esRfLwGxiGo2",
        "outputId": "ce712620-8d49-45c4-9edf-252116c40d44"
      },
      "outputs": [
        {
          "output_type": "execute_result",
          "data": {
            "text/plain": [
              "array([ True,  True,  True, ...,  True,  True,  True])"
            ]
          },
          "metadata": {},
          "execution_count": 30
        }
      ],
      "source": [
        "result1 == result2  # element by element comparison for NumPy arrays (meaning it compares one by one)"
      ]
    },
    {
      "cell_type": "code",
      "execution_count": 31,
      "metadata": {
        "colab": {
          "base_uri": "https://localhost:8080/"
        },
        "id": "VdqoL6PIiGo2",
        "outputId": "dc53ca76-2084-4f33-9815-c03c2bd5828b"
      },
      "outputs": [
        {
          "output_type": "execute_result",
          "data": {
            "text/plain": [
              "True"
            ]
          },
          "metadata": {},
          "execution_count": 31
        }
      ],
      "source": [
        "np.array_equal(result1, result2)  # element by element comparison for NumPy arrays (meaning it compares one by one"
      ]
    },
    {
      "cell_type": "code",
      "execution_count": 32,
      "metadata": {
        "colab": {
          "base_uri": "https://localhost:8080/"
        },
        "id": "fPaBPVaSxNlI",
        "outputId": "a7add23c-5b30-4b9a-aeb6-08023086eb31"
      },
      "outputs": [
        {
          "output_type": "execute_result",
          "data": {
            "text/plain": [
              "numpy.ndarray"
            ]
          },
          "metadata": {},
          "execution_count": 32
        }
      ],
      "source": [
        "type(np_x)"
      ]
    },
    {
      "cell_type": "code",
      "execution_count": 33,
      "metadata": {
        "colab": {
          "base_uri": "https://localhost:8080/"
        },
        "id": "1nbutqRhxNij",
        "outputId": "6d49ae1b-e2a4-40dc-984b-2f796ad7939d"
      },
      "outputs": [
        {
          "output_type": "execute_result",
          "data": {
            "text/plain": [
              "list"
            ]
          },
          "metadata": {},
          "execution_count": 33
        }
      ],
      "source": [
        "type(list_x)"
      ]
    },
    {
      "cell_type": "code",
      "execution_count": 34,
      "metadata": {
        "id": "4veVeti3xNdU"
      },
      "outputs": [],
      "source": [
        "for i, x in enumerate(np_x):\n",
        "  result1[i] = x ** 3"
      ]
    },
    {
      "cell_type": "code",
      "execution_count": 35,
      "metadata": {
        "id": "R3HX8r9axfDR"
      },
      "outputs": [],
      "source": [
        "# no need for loops\n",
        "result2 = np_x ** 3"
      ]
    },
    {
      "cell_type": "code",
      "execution_count": 36,
      "metadata": {
        "colab": {
          "base_uri": "https://localhost:8080/"
        },
        "id": "YzVXic5uxfAt",
        "outputId": "4cb58269-3fa2-42c7-d9ba-683af18fb740"
      },
      "outputs": [
        {
          "output_type": "execute_result",
          "data": {
            "text/plain": [
              "True"
            ]
          },
          "metadata": {},
          "execution_count": 36
        }
      ],
      "source": [
        "np.array_equal(result1, result2)"
      ]
    },
    {
      "cell_type": "code",
      "execution_count": 37,
      "metadata": {
        "id": "0BDL_getxe-T"
      },
      "outputs": [],
      "source": [
        "for i, x in enumerate(list_x):  # generates an index and value for each element in the list\n",
        "  result3.append(x ** 3)"
      ]
    },
    {
      "cell_type": "markdown",
      "metadata": {
        "id": "VtBAzX2kiGo3"
      },
      "source": [
        "As seen above, when we're working with numerical computations, use NumPy arrays instead of lists."
      ]
    },
    {
      "cell_type": "code",
      "execution_count": 38,
      "metadata": {
        "id": "I3UPmgh6SX2n"
      },
      "outputs": [],
      "source": [
        "# clear the memory by releasing result1, result2, result3\n",
        "del result1, result2, result3"
      ]
    },
    {
      "cell_type": "markdown",
      "metadata": {
        "id": "4t96BdtwiGo3"
      },
      "source": [
        "#### Notes on `enumerate()`\n",
        "\n",
        "\n",
        "##### What is `enumerate()`?\n",
        "The `enumerate()` function in Python is a built-in function that allows you to loop over a sequence (like a list, tuple, or string) while keeping track of both the index and the value of each item in the sequence. It returns an iterator that produces pairs of (index, value).\n",
        "\n",
        "##### Syntax\n",
        "The basic syntax of `enumerate()` is:\n",
        "```python\n",
        "for index, value in enumerate(sequence):\n",
        "    # Do something with index and value\n",
        "```\n",
        "- `index`: The current index (position) in the sequence, starting from 0 by default.\n",
        "- `value`: The current item in the sequence.\n",
        "\n",
        "##### Example\n",
        "Here’s an example to illustrate how `enumerate()` works:\n",
        "```python\n",
        "fruits = ['apple', 'banana', 'cherry']\n",
        "\n",
        "for index, fruit in enumerate(fruits):\n",
        "    print(f\"Index: {index}, Fruit: {fruit}\")\n",
        "```\n",
        "Output:\n",
        "```\n",
        "Index: 0, Fruit: apple\n",
        "Index: 1, Fruit: banana\n",
        "Index: 2, Fruit: cherry\n",
        "```\n",
        "\n",
        "##### Optional `start` Parameter\n",
        "You can specify a starting index other than 0 by passing a second argument to `enumerate`:\n",
        "```python\n",
        "for index, fruit in enumerate(fruits, start=1):\n",
        "    print(f\"Index: {index}, Fruit: {fruit}\")\n",
        "```\n",
        "Output:\n",
        "```\n",
        "Index: 1, Fruit: apple\n",
        "Index: 2, Fruit: banana\n",
        "Index: 3, Fruit: cherry\n",
        "```\n",
        "\n",
        "##### Use Cases\n",
        "- **Tracking Index and Value**: When you need both the index and the value while iterating over a sequence.\n",
        "- **Custom Indexing**: When you want to start indexing from a number other than 0.\n",
        "\n",
        "##### Summary\n",
        "- `enumerate()` is a convenient way to loop over a sequence while keeping track of the index and value.\n",
        "- It simplifies code by eliminating the need to manually manage the index variable.\n",
        "- The optional `start` parameter allows for custom indexing.\n",
        "\n",
        "```"
      ]
    },
    {
      "cell_type": "markdown",
      "metadata": {
        "id": "dwVINwpClw3T"
      },
      "source": [
        "### Basic Operations\n",
        "\n",
        "The default mode in numpy is _elementwise_ operations.\n",
        "\n",
        "Some operators are: (`+`, `-`, `*`, `/`, `//`, `**`, `<`, `==`, etc.)\n",
        "\n"
      ]
    },
    {
      "cell_type": "code",
      "execution_count": 39,
      "metadata": {
        "id": "AtT40_8v0HBR"
      },
      "outputs": [],
      "source": [
        "v1 = np.array([1 ,2])\n",
        "v2 = np.array([3, 4])"
      ]
    },
    {
      "cell_type": "code",
      "execution_count": 40,
      "metadata": {
        "colab": {
          "base_uri": "https://localhost:8080/"
        },
        "id": "FUVxVfXh0W9h",
        "outputId": "112f1f2e-f4a2-401d-cd0f-74689e5ab0c7"
      },
      "outputs": [
        {
          "output_type": "execute_result",
          "data": {
            "text/plain": [
              "array([4, 6])"
            ]
          },
          "metadata": {},
          "execution_count": 40
        }
      ],
      "source": [
        "v1 + v2"
      ]
    },
    {
      "cell_type": "code",
      "execution_count": 41,
      "metadata": {
        "colab": {
          "base_uri": "https://localhost:8080/"
        },
        "id": "POCtjVeL0cdG",
        "outputId": "1f40bfe4-e322-423e-99f4-bec294f251f1"
      },
      "outputs": [
        {
          "output_type": "execute_result",
          "data": {
            "text/plain": [
              "array([-2, -2])"
            ]
          },
          "metadata": {},
          "execution_count": 41
        }
      ],
      "source": [
        "v1 - v2"
      ]
    },
    {
      "cell_type": "code",
      "execution_count": 42,
      "metadata": {
        "colab": {
          "base_uri": "https://localhost:8080/"
        },
        "id": "FQK5N7HA0cXs",
        "outputId": "b93cc39f-3c16-4af5-97f6-1e30605fc2a0"
      },
      "outputs": [
        {
          "output_type": "execute_result",
          "data": {
            "text/plain": [
              "array([3, 8])"
            ]
          },
          "metadata": {},
          "execution_count": 42
        }
      ],
      "source": [
        "v1 * v2 # elementwise multiplication"
      ]
    },
    {
      "cell_type": "code",
      "execution_count": 43,
      "metadata": {
        "colab": {
          "base_uri": "https://localhost:8080/"
        },
        "id": "6GdaGfms0cQ2",
        "outputId": "d45aa382-cf68-4cd2-ddc8-583cdb8ead6e"
      },
      "outputs": [
        {
          "output_type": "execute_result",
          "data": {
            "text/plain": [
              "array([2, 4])"
            ]
          },
          "metadata": {},
          "execution_count": 43
        }
      ],
      "source": [
        "v1 * 2"
      ]
    },
    {
      "cell_type": "code",
      "execution_count": 44,
      "metadata": {
        "colab": {
          "base_uri": "https://localhost:8080/"
        },
        "id": "zLLpLBfA0n4s",
        "outputId": "a2441114-57f4-494d-f8aa-a3c5ae8a0355"
      },
      "outputs": [
        {
          "output_type": "execute_result",
          "data": {
            "text/plain": [
              "array([1, 4])"
            ]
          },
          "metadata": {},
          "execution_count": 44
        }
      ],
      "source": [
        "v1 ** 2"
      ]
    },
    {
      "cell_type": "markdown",
      "metadata": {
        "id": "Nuq8Tkb7063z"
      },
      "source": [
        "The `*` operators elementwise (not matrix multiplication). Matrix multiplication is typically using `@` operator or the `dot` function."
      ]
    },
    {
      "cell_type": "code",
      "execution_count": 45,
      "metadata": {
        "id": "r0iE0DcJ0n2s"
      },
      "outputs": [],
      "source": [
        "a = np.eye(2)\n",
        "b = np.array([\n",
        "    [3, 7],\n",
        "    [0, 5]\n",
        "])\n"
      ]
    },
    {
      "cell_type": "code",
      "execution_count": 46,
      "metadata": {
        "colab": {
          "base_uri": "https://localhost:8080/"
        },
        "id": "8HvO6hRN0n0e",
        "outputId": "df7d3ef0-32f0-41ec-e640-1ede70ff876a"
      },
      "outputs": [
        {
          "output_type": "execute_result",
          "data": {
            "text/plain": [
              "array([[1., 0.],\n",
              "       [0., 1.]])"
            ]
          },
          "metadata": {},
          "execution_count": 46
        }
      ],
      "source": [
        "a"
      ]
    },
    {
      "cell_type": "code",
      "execution_count": 47,
      "metadata": {
        "colab": {
          "base_uri": "https://localhost:8080/"
        },
        "id": "l6D9nEy_iGo4",
        "outputId": "1dd25b9f-a5e6-4891-d679-97e984ffb32a"
      },
      "outputs": [
        {
          "output_type": "execute_result",
          "data": {
            "text/plain": [
              "(2, 2)"
            ]
          },
          "metadata": {},
          "execution_count": 47
        }
      ],
      "source": [
        "a.shape"
      ]
    },
    {
      "cell_type": "code",
      "execution_count": 48,
      "metadata": {
        "colab": {
          "base_uri": "https://localhost:8080/"
        },
        "id": "VAfT9_fa0nuG",
        "outputId": "02a86583-3edd-42e3-d744-7510ef58d3e6"
      },
      "outputs": [
        {
          "output_type": "execute_result",
          "data": {
            "text/plain": [
              "array([[3., 0.],\n",
              "       [0., 5.]])"
            ]
          },
          "metadata": {},
          "execution_count": 48
        }
      ],
      "source": [
        "# elementwise product\n",
        "a * b"
      ]
    },
    {
      "cell_type": "code",
      "execution_count": 49,
      "metadata": {
        "colab": {
          "base_uri": "https://localhost:8080/"
        },
        "id": "zUVgTlht1SmS",
        "outputId": "313e5eb2-edb7-449a-9623-c9ad5887405e"
      },
      "outputs": [
        {
          "output_type": "execute_result",
          "data": {
            "text/plain": [
              "array([[3., 7.],\n",
              "       [0., 5.]])"
            ]
          },
          "metadata": {},
          "execution_count": 49
        }
      ],
      "source": [
        "# matrix product\n",
        "a @ b"
      ]
    },
    {
      "cell_type": "markdown",
      "metadata": {
        "id": "XSkI5eeuiGo4"
      },
      "source": [
        "\n",
        "\n",
        "**Procedural Function Approach**\n",
        "\n",
        "   ```python\n",
        "   # matrix product using procedural function dot\n",
        "   np.dot(a, b)\n",
        "   ```\n",
        "\n",
        "   - **Function Call**: This approach uses the `np.dot` function, which is a procedural function provided by NumPy.\n",
        "   - **Namespace**: The function is called using the `np` namespace, which is the standard alias for NumPy.\n",
        "   - **Explicit Function**: It explicitly calls the `dot` function, making it clear that the matrix product operation is being performed.\n",
        "\n",
        "**Object-Oriented Method Approach**\n",
        "\n",
        "   ```python\n",
        "   # matrix product using OOP method dot\n",
        "   a.dot(b)\n",
        "   ```\n",
        "\n",
        "   - **Method Call**: This approach uses the `dot` method, which is an object-oriented method provided by NumPy arrays.\n",
        "   - **Instance Method**: The `dot` method is called on the array `a`, treating `a` as an object.\n",
        "   - **Implicit Function**: It implicitly calls the `dot` method on the array `a`, which is more object-oriented in style.\n",
        "\n",
        "- Key Differences\n",
        "\n",
        "   1. **Style**:\n",
        "      - **Procedural**: The procedural approach is more explicit and follows a functional programming style. It directly calls a function with the necessary arguments.\n",
        "      - **Object-Oriented**: The OO approach is more implicit and follows an object-oriented programming style. It calls a method on an object.\n",
        "\n",
        "   2. **Readability**:\n",
        "      - **Procedural**: Some developers might find the procedural approach more readable because it explicitly states the function being called.\n",
        "      - **Object-Oriented**: The OO approach can be more intuitive for those familiar with object-oriented concepts, as it treats arrays as objects with methods.\n",
        "\n",
        "   3. **Flexibility**:\n",
        "      - **Procedural**: The procedural approach can be more flexible in terms of function composition and higher-order functions.\n",
        "      - **Object-Oriented**: The OO approach can be more flexible in terms of method chaining and object-oriented design patterns.\n",
        "\n",
        "   4. **Performance**:\n",
        "      - Both approaches are likely to have similar performance characteristics because they both call the same underlying NumPy function. The difference is in how the function is invoked."
      ]
    },
    {
      "cell_type": "code",
      "execution_count": 50,
      "metadata": {
        "colab": {
          "base_uri": "https://localhost:8080/"
        },
        "id": "ltYdvBvM1SkI",
        "outputId": "8898b9ef-90b9-4386-b69a-e935278557e9"
      },
      "outputs": [
        {
          "output_type": "execute_result",
          "data": {
            "text/plain": [
              "array([[3., 7.],\n",
              "       [0., 5.]])"
            ]
          },
          "metadata": {},
          "execution_count": 50
        }
      ],
      "source": [
        "# matrix product using procedural function dot\n",
        "np.dot(a, b)"
      ]
    },
    {
      "cell_type": "code",
      "execution_count": 51,
      "metadata": {
        "colab": {
          "base_uri": "https://localhost:8080/"
        },
        "id": "75_3ZtDG1e6f",
        "outputId": "48496c82-7882-4a64-de91-b9e56bd9cc0b"
      },
      "outputs": [
        {
          "output_type": "execute_result",
          "data": {
            "text/plain": [
              "array([[3., 7.],\n",
              "       [0., 5.]])"
            ]
          },
          "metadata": {},
          "execution_count": 51
        }
      ],
      "source": [
        "# matrix product using OOP method dot\n",
        "\n",
        "a.dot(b)"
      ]
    },
    {
      "cell_type": "code",
      "execution_count": 52,
      "metadata": {
        "colab": {
          "base_uri": "https://localhost:8080/"
        },
        "id": "wRK2ZMQL1_sc",
        "outputId": "f3f44d43-ee36-4d00-a879-47db9a7f2923"
      },
      "outputs": [
        {
          "output_type": "execute_result",
          "data": {
            "text/plain": [
              "array([[25, 29, 56, 83, 72],\n",
              "       [71, 45, 62, 48,  3],\n",
              "       [69, 30, 84, 95, 15],\n",
              "       [ 6, 50, 46,  5, 36]])"
            ]
          },
          "metadata": {},
          "execution_count": 52
        }
      ],
      "source": [
        "m = np.random.randint(0, 100, (4, 5))\n",
        "m"
      ]
    },
    {
      "cell_type": "code",
      "execution_count": 53,
      "metadata": {
        "colab": {
          "base_uri": "https://localhost:8080/"
        },
        "id": "pYFQWM9d2JNn",
        "outputId": "f380a692-68f4-48de-b1e9-13177e800a89"
      },
      "outputs": [
        {
          "output_type": "execute_result",
          "data": {
            "text/plain": [
              "array([[False, False,  True,  True,  True],\n",
              "       [ True, False,  True, False, False],\n",
              "       [ True, False,  True,  True, False],\n",
              "       [False, False, False, False, False]])"
            ]
          },
          "metadata": {},
          "execution_count": 53
        }
      ],
      "source": [
        "# logical operators\n",
        "m > 50"
      ]
    },
    {
      "cell_type": "markdown",
      "metadata": {
        "id": "nefVDrReiGo4"
      },
      "source": [
        "\n",
        "\n",
        "**Filtering Elements Based on a Condition**\n",
        "\n",
        "```python\n",
        "m[m > 50]\n",
        "```\n",
        "\n",
        "- **`m > 50`**:\n",
        "  - This creates a boolean array of the same shape as `m`, where each element is `True` if the corresponding element in `m` is greater than 50, and `False` otherwise.\n",
        "- **`m[m > 50]`**:\n",
        "  - This uses boolean indexing to filter the elements of `m`.\n",
        "  - The expression `m > 50` generates a boolean mask.\n",
        "  - `m[m > 50]` selects the elements of `m` where the corresponding element in the boolean mask is `True`.\n",
        "\n"
      ]
    },
    {
      "cell_type": "code",
      "execution_count": 54,
      "metadata": {
        "colab": {
          "base_uri": "https://localhost:8080/"
        },
        "id": "3iuwyAM4iGo4",
        "outputId": "4cff630f-209f-4977-facd-66d93cab3fae"
      },
      "outputs": [
        {
          "output_type": "execute_result",
          "data": {
            "text/plain": [
              "array([56, 83, 72, 71, 62, 69, 84, 95])"
            ]
          },
          "metadata": {},
          "execution_count": 54
        }
      ],
      "source": [
        "m[m > 50]"
      ]
    },
    {
      "cell_type": "markdown",
      "metadata": {
        "id": "cN_ujJam2p_2"
      },
      "source": [
        "**Unary operations**\n"
      ]
    },
    {
      "cell_type": "code",
      "execution_count": 55,
      "metadata": {
        "colab": {
          "base_uri": "https://localhost:8080/"
        },
        "id": "5xOxdOk_2pbB",
        "outputId": "fd2cecbf-3d5a-43c8-8e8e-d22e268daa73"
      },
      "outputs": [
        {
          "output_type": "execute_result",
          "data": {
            "text/plain": [
              "array([[7, 9, 5],\n",
              "       [4, 5, 4],\n",
              "       [1, 4, 6],\n",
              "       [7, 4, 3]])"
            ]
          },
          "metadata": {},
          "execution_count": 55
        }
      ],
      "source": [
        "a = np.random.randint(0, 10, (4, 3))\n",
        "a"
      ]
    },
    {
      "cell_type": "code",
      "execution_count": 56,
      "metadata": {
        "colab": {
          "base_uri": "https://localhost:8080/"
        },
        "id": "72CtW6a328iA",
        "outputId": "a0e18954-2d37-43d2-d33a-b398adba349e"
      },
      "outputs": [
        {
          "output_type": "execute_result",
          "data": {
            "text/plain": [
              "59"
            ]
          },
          "metadata": {},
          "execution_count": 56
        }
      ],
      "source": [
        "a.sum()"
      ]
    },
    {
      "cell_type": "code",
      "execution_count": 57,
      "metadata": {
        "colab": {
          "base_uri": "https://localhost:8080/"
        },
        "id": "M7N9u6n928f6",
        "outputId": "1475256d-9842-4384-c59b-722a61c630b1"
      },
      "outputs": [
        {
          "output_type": "execute_result",
          "data": {
            "text/plain": [
              "array([19, 22, 18])"
            ]
          },
          "metadata": {},
          "execution_count": 57
        }
      ],
      "source": [
        "a.sum(axis=0)"
      ]
    },
    {
      "cell_type": "code",
      "execution_count": 58,
      "metadata": {
        "colab": {
          "base_uri": "https://localhost:8080/"
        },
        "id": "mcZ6zfrD28do",
        "outputId": "3807e175-8d8d-499c-dd1c-de08a8c775de"
      },
      "outputs": [
        {
          "output_type": "execute_result",
          "data": {
            "text/plain": [
              "array([21, 13, 11, 14])"
            ]
          },
          "metadata": {},
          "execution_count": 58
        }
      ],
      "source": [
        "a.sum(axis=1)"
      ]
    },
    {
      "cell_type": "code",
      "execution_count": 59,
      "metadata": {
        "colab": {
          "base_uri": "https://localhost:8080/"
        },
        "id": "Vs6lgHI8iGo4",
        "outputId": "644e2336-05c6-460a-87a1-246f25a4447b"
      },
      "outputs": [
        {
          "output_type": "execute_result",
          "data": {
            "text/plain": [
              "array([[ 7, 16, 21],\n",
              "       [ 4,  9, 13],\n",
              "       [ 1,  5, 11],\n",
              "       [ 7, 11, 14]])"
            ]
          },
          "metadata": {},
          "execution_count": 59
        }
      ],
      "source": [
        "a.cumsum(axis=1)"
      ]
    },
    {
      "cell_type": "code",
      "execution_count": 60,
      "metadata": {
        "colab": {
          "base_uri": "https://localhost:8080/"
        },
        "id": "BFHjglmg3NCl",
        "outputId": "614ea5ae-b030-45d0-bba5-a9ffc3d3fecb"
      },
      "outputs": [
        {
          "output_type": "execute_result",
          "data": {
            "text/plain": [
              "9"
            ]
          },
          "metadata": {},
          "execution_count": 60
        }
      ],
      "source": [
        "a.max()"
      ]
    },
    {
      "cell_type": "code",
      "execution_count": 61,
      "metadata": {
        "colab": {
          "base_uri": "https://localhost:8080/"
        },
        "id": "mEkPq-vl3NAn",
        "outputId": "dc76aaf1-217a-4ecc-b0f8-a095e4167e02"
      },
      "outputs": [
        {
          "output_type": "execute_result",
          "data": {
            "text/plain": [
              "array([7, 9, 6])"
            ]
          },
          "metadata": {},
          "execution_count": 61
        }
      ],
      "source": [
        "a.max(axis=0)"
      ]
    },
    {
      "cell_type": "code",
      "execution_count": 62,
      "metadata": {
        "colab": {
          "base_uri": "https://localhost:8080/"
        },
        "id": "wDSB89gc3M-v",
        "outputId": "b5490262-dd97-4c3c-814f-6595979e128c"
      },
      "outputs": [
        {
          "output_type": "execute_result",
          "data": {
            "text/plain": [
              "array([5, 4, 1, 3])"
            ]
          },
          "metadata": {},
          "execution_count": 62
        }
      ],
      "source": [
        "a.min(axis=1)"
      ]
    },
    {
      "cell_type": "code",
      "execution_count": 63,
      "metadata": {
        "colab": {
          "base_uri": "https://localhost:8080/"
        },
        "id": "TA4zgQ2d3iS3",
        "outputId": "5895328a-a2d0-4928-a70d-494e05850dd1"
      },
      "outputs": [
        {
          "output_type": "execute_result",
          "data": {
            "text/plain": [
              "array([ 7, 16, 21, 25, 30, 34, 35, 39, 45, 52, 56, 59])"
            ]
          },
          "metadata": {},
          "execution_count": 63
        }
      ],
      "source": [
        "a.cumsum()"
      ]
    },
    {
      "cell_type": "code",
      "execution_count": 64,
      "metadata": {
        "colab": {
          "base_uri": "https://localhost:8080/"
        },
        "id": "18s6r9Po3Y1p",
        "outputId": "ce213f2b-af81-4bcf-c5bd-ddc9b433f692"
      },
      "outputs": [
        {
          "output_type": "execute_result",
          "data": {
            "text/plain": [
              "array([[ 7,  9,  5],\n",
              "       [11, 14,  9],\n",
              "       [12, 18, 15],\n",
              "       [19, 22, 18]])"
            ]
          },
          "metadata": {},
          "execution_count": 64
        }
      ],
      "source": [
        "a.cumsum(axis=0)"
      ]
    },
    {
      "cell_type": "code",
      "execution_count": 65,
      "metadata": {
        "colab": {
          "base_uri": "https://localhost:8080/"
        },
        "id": "D8qGwnlj34qy",
        "outputId": "b9a3a53b-5f23-42ea-dae7-c73a31cc9629"
      },
      "outputs": [
        {
          "output_type": "execute_result",
          "data": {
            "text/plain": [
              "array([[7, 4, 1, 7],\n",
              "       [9, 5, 4, 4],\n",
              "       [5, 4, 6, 3]])"
            ]
          },
          "metadata": {},
          "execution_count": 65
        }
      ],
      "source": [
        "a.transpose()"
      ]
    },
    {
      "cell_type": "code",
      "execution_count": 66,
      "metadata": {
        "colab": {
          "base_uri": "https://localhost:8080/"
        },
        "id": "Nxo5AEXt4BJk",
        "outputId": "6fe080c4-c6ad-4874-8d91-9e690d148086"
      },
      "outputs": [
        {
          "output_type": "execute_result",
          "data": {
            "text/plain": [
              "array([7, 9, 5, 4, 5, 4, 1, 4, 6, 7, 4, 3])"
            ]
          },
          "metadata": {},
          "execution_count": 66
        }
      ],
      "source": [
        "a.flatten()"
      ]
    },
    {
      "cell_type": "code",
      "execution_count": 67,
      "metadata": {
        "colab": {
          "base_uri": "https://localhost:8080/"
        },
        "id": "8QtDMcjoiGo5",
        "outputId": "9cb676e3-dfcc-4631-d627-12df5e38c254"
      },
      "outputs": [
        {
          "output_type": "execute_result",
          "data": {
            "text/plain": [
              "array([[7, 9, 5, 4],\n",
              "       [5, 4, 1, 4],\n",
              "       [6, 7, 4, 3]])"
            ]
          },
          "metadata": {},
          "execution_count": 67
        }
      ],
      "source": [
        "a.reshape(3, -1)    # -1 means \"whatever is needed\""
      ]
    },
    {
      "cell_type": "markdown",
      "metadata": {
        "id": "obAaePGdlwuO"
      },
      "source": [
        "### Indexing and Slicing\n",
        "\n",
        "Very similar to standard lists"
      ]
    },
    {
      "cell_type": "code",
      "execution_count": 68,
      "metadata": {
        "colab": {
          "base_uri": "https://localhost:8080/"
        },
        "id": "MAjZ1MOCWk-o",
        "outputId": "2dfd1f34-42a7-4d1d-be0c-f99de6c29850"
      },
      "outputs": [
        {
          "output_type": "stream",
          "name": "stdout",
          "text": [
            "[ 1  9 25 49 81]\n"
          ]
        }
      ],
      "source": [
        "n = np.arange(1, 10, 2) ** 2\n",
        "print(n)"
      ]
    },
    {
      "cell_type": "code",
      "execution_count": 69,
      "metadata": {
        "colab": {
          "base_uri": "https://localhost:8080/"
        },
        "id": "_CJ4DNP6Wzbq",
        "outputId": "dc6cc98b-ef56-4ded-f782-f0df5760bc7e"
      },
      "outputs": [
        {
          "output_type": "execute_result",
          "data": {
            "text/plain": [
              "25"
            ]
          },
          "metadata": {},
          "execution_count": 69
        }
      ],
      "source": [
        "n[2]"
      ]
    },
    {
      "cell_type": "code",
      "execution_count": 70,
      "metadata": {
        "colab": {
          "base_uri": "https://localhost:8080/"
        },
        "id": "m1Xpj5HpW2fL",
        "outputId": "00f9f179-0d8c-4aab-8ece-458a4147d05c"
      },
      "outputs": [
        {
          "output_type": "execute_result",
          "data": {
            "text/plain": [
              "array([25, 49, 81])"
            ]
          },
          "metadata": {},
          "execution_count": 70
        }
      ],
      "source": [
        "n[-3:]"
      ]
    },
    {
      "cell_type": "code",
      "execution_count": 71,
      "metadata": {
        "colab": {
          "base_uri": "https://localhost:8080/"
        },
        "id": "KOkv5bFUYA70",
        "outputId": "2891226f-bde2-4a04-bbb1-94a0d709635d"
      },
      "outputs": [
        {
          "output_type": "execute_result",
          "data": {
            "text/plain": [
              "array([[31, 53, 39, 26, 41],\n",
              "       [84, 61, 85, 29, 16],\n",
              "       [53, 80, 21, 30, 48]])"
            ]
          },
          "metadata": {},
          "execution_count": 71
        }
      ],
      "source": [
        "n = np.random.randint(1, 100, (3, 5))\n",
        "n"
      ]
    },
    {
      "cell_type": "code",
      "execution_count": 72,
      "metadata": {
        "colab": {
          "base_uri": "https://localhost:8080/"
        },
        "id": "8nHpxcRMYKXm",
        "outputId": "8c95bc5f-8891-4151-d113-c2b857c38058"
      },
      "outputs": [
        {
          "output_type": "execute_result",
          "data": {
            "text/plain": [
              "53"
            ]
          },
          "metadata": {},
          "execution_count": 72
        }
      ],
      "source": [
        "n[0, 1]"
      ]
    },
    {
      "cell_type": "code",
      "execution_count": 73,
      "metadata": {
        "colab": {
          "base_uri": "https://localhost:8080/"
        },
        "id": "a5ubfPuPYPgy",
        "outputId": "2acf8ac6-d48a-43d8-d7e5-619bde60149a"
      },
      "outputs": [
        {
          "output_type": "execute_result",
          "data": {
            "text/plain": [
              "53"
            ]
          },
          "metadata": {},
          "execution_count": 73
        }
      ],
      "source": [
        "n[0][1]"
      ]
    },
    {
      "cell_type": "code",
      "execution_count": 74,
      "metadata": {
        "colab": {
          "base_uri": "https://localhost:8080/"
        },
        "id": "oD_xPU4GYUcQ",
        "outputId": "2050479f-d9b6-4a21-b7de-15ac0beffb62"
      },
      "outputs": [
        {
          "output_type": "execute_result",
          "data": {
            "text/plain": [
              "array([[61, 85],\n",
              "       [80, 21]])"
            ]
          },
          "metadata": {},
          "execution_count": 74
        }
      ],
      "source": [
        "n[1:3, 1:3]"
      ]
    },
    {
      "cell_type": "code",
      "execution_count": 75,
      "metadata": {
        "colab": {
          "base_uri": "https://localhost:8080/"
        },
        "id": "DAOOwBD-LtzD",
        "outputId": "fa725bf2-3a36-4867-a6c3-086023abecb2"
      },
      "outputs": [
        {
          "output_type": "execute_result",
          "data": {
            "text/plain": [
              "array([39, 85, 21])"
            ]
          },
          "metadata": {},
          "execution_count": 75
        }
      ],
      "source": [
        "n[:, 2] # all rows in the third column"
      ]
    },
    {
      "cell_type": "code",
      "execution_count": 76,
      "metadata": {
        "colab": {
          "base_uri": "https://localhost:8080/"
        },
        "id": "gU7E-7hfZXGn",
        "outputId": "8fc44e17-0912-440c-d27d-c6eddeaa8a2e"
      },
      "outputs": [
        {
          "output_type": "execute_result",
          "data": {
            "text/plain": [
              "array([[False,  True, False, False, False],\n",
              "       [ True,  True,  True, False, False],\n",
              "       [ True,  True, False, False, False]])"
            ]
          },
          "metadata": {},
          "execution_count": 76
        }
      ],
      "source": [
        "n > 50"
      ]
    },
    {
      "cell_type": "code",
      "execution_count": 77,
      "metadata": {
        "colab": {
          "base_uri": "https://localhost:8080/"
        },
        "id": "6qhIwv0TZdY9",
        "outputId": "3b1f4475-c0d9-4345-ed56-b4590b08de14"
      },
      "outputs": [
        {
          "output_type": "execute_result",
          "data": {
            "text/plain": [
              "array([53, 84, 61, 85, 53, 80])"
            ]
          },
          "metadata": {},
          "execution_count": 77
        }
      ],
      "source": [
        "n[n > 50]"
      ]
    },
    {
      "cell_type": "markdown",
      "metadata": {
        "id": "TJ3-m-Vdlwk2"
      },
      "source": [
        "### Shape Manipulation"
      ]
    },
    {
      "cell_type": "code",
      "execution_count": 78,
      "metadata": {
        "colab": {
          "base_uri": "https://localhost:8080/"
        },
        "id": "Vo_tTwQFZqt1",
        "outputId": "5333aa2b-e455-4a00-97af-e9f8863b0f12"
      },
      "outputs": [
        {
          "output_type": "execute_result",
          "data": {
            "text/plain": [
              "array([[44, 94, 18,  6, 24,  3, 72, 71],\n",
              "       [73, 39, 70, 27, 86, 35, 22, 72],\n",
              "       [17, 15, 99, 11, 82, 99, 39, 89]])"
            ]
          },
          "metadata": {},
          "execution_count": 78
        }
      ],
      "source": [
        "n = np.random.randint(1, 100, (3, 8))\n",
        "n"
      ]
    },
    {
      "cell_type": "code",
      "execution_count": 79,
      "metadata": {
        "colab": {
          "base_uri": "https://localhost:8080/"
        },
        "id": "GFW2kggAZzxM",
        "outputId": "3ebb24c2-8e0c-475f-bdbe-cd88a7361df4"
      },
      "outputs": [
        {
          "output_type": "execute_result",
          "data": {
            "text/plain": [
              "(3, 8)"
            ]
          },
          "metadata": {},
          "execution_count": 79
        }
      ],
      "source": [
        "n.shape"
      ]
    },
    {
      "cell_type": "code",
      "execution_count": 80,
      "metadata": {
        "colab": {
          "base_uri": "https://localhost:8080/"
        },
        "id": "aLcuzamkZ2a4",
        "outputId": "c54a9c11-44f0-4e22-b445-5a4acd5ea919"
      },
      "outputs": [
        {
          "output_type": "execute_result",
          "data": {
            "text/plain": [
              "array([44, 94, 18,  6, 24,  3, 72, 71, 73, 39, 70, 27, 86, 35, 22, 72, 17,\n",
              "       15, 99, 11, 82, 99, 39, 89])"
            ]
          },
          "metadata": {},
          "execution_count": 80
        }
      ],
      "source": [
        "# flatten the array\n",
        "n.ravel()"
      ]
    },
    {
      "cell_type": "code",
      "execution_count": 81,
      "metadata": {
        "colab": {
          "base_uri": "https://localhost:8080/"
        },
        "id": "fQ7dg_C2Nw6h",
        "outputId": "d8f9701b-9a24-4aaa-d97a-c60e4720314a"
      },
      "outputs": [
        {
          "output_type": "execute_result",
          "data": {
            "text/plain": [
              "array([[44, 94, 18,  6, 24,  3, 72, 71],\n",
              "       [73, 39, 70, 27, 86, 35, 22, 72],\n",
              "       [17, 15, 99, 11, 82, 99, 39, 89]])"
            ]
          },
          "metadata": {},
          "execution_count": 81
        }
      ],
      "source": [
        "# ravel returns a new array but keeps the original unchanged\n",
        "n"
      ]
    },
    {
      "cell_type": "code",
      "execution_count": 82,
      "metadata": {
        "colab": {
          "base_uri": "https://localhost:8080/"
        },
        "id": "9wGIn6FkZ6rd",
        "outputId": "adcc5b3c-3034-4c3f-f4a5-d268f97b8aca"
      },
      "outputs": [
        {
          "output_type": "execute_result",
          "data": {
            "text/plain": [
              "array([44, 94, 18,  6, 24,  3, 72, 71, 73, 39, 70, 27, 86, 35, 22, 72, 17,\n",
              "       15, 99, 11, 82, 99, 39, 89])"
            ]
          },
          "metadata": {},
          "execution_count": 82
        }
      ],
      "source": [
        "n.flatten() # similar to ravel"
      ]
    },
    {
      "cell_type": "code",
      "execution_count": 83,
      "metadata": {
        "colab": {
          "base_uri": "https://localhost:8080/"
        },
        "id": "khj7kY_EZ-IB",
        "outputId": "dd04bf67-f4e0-410f-a406-aae857bab017"
      },
      "outputs": [
        {
          "output_type": "execute_result",
          "data": {
            "text/plain": [
              "array([[44, 94, 18,  6, 24,  3, 72, 71, 73, 39, 70, 27],\n",
              "       [86, 35, 22, 72, 17, 15, 99, 11, 82, 99, 39, 89]])"
            ]
          },
          "metadata": {},
          "execution_count": 83
        }
      ],
      "source": [
        "n.reshape(2, 12) # returns a new array but keep original unchanged"
      ]
    },
    {
      "cell_type": "code",
      "execution_count": 84,
      "metadata": {
        "colab": {
          "base_uri": "https://localhost:8080/"
        },
        "id": "IQbwTP5paMwd",
        "outputId": "4e26bc13-a2a9-4e7a-9e03-cc80131a856e"
      },
      "outputs": [
        {
          "output_type": "execute_result",
          "data": {
            "text/plain": [
              "array([[44, 94, 18,  6, 24,  3, 72, 71, 73, 39, 70, 27],\n",
              "       [86, 35, 22, 72, 17, 15, 99, 11, 82, 99, 39, 89]])"
            ]
          },
          "metadata": {},
          "execution_count": 84
        }
      ],
      "source": [
        "n.reshape(2, -1) # -1 automatically calculated"
      ]
    },
    {
      "cell_type": "code",
      "execution_count": 85,
      "metadata": {
        "colab": {
          "base_uri": "https://localhost:8080/"
        },
        "id": "QAYoMETnOlMq",
        "outputId": "bb11a139-bf6d-4069-8dd7-79d0c5cc1d89"
      },
      "outputs": [
        {
          "output_type": "execute_result",
          "data": {
            "text/plain": [
              "array([[44, 94, 18,  6, 24,  3, 72, 71],\n",
              "       [73, 39, 70, 27, 86, 35, 22, 72],\n",
              "       [17, 15, 99, 11, 82, 99, 39, 89]])"
            ]
          },
          "metadata": {},
          "execution_count": 85
        }
      ],
      "source": [
        "n"
      ]
    },
    {
      "cell_type": "code",
      "execution_count": 86,
      "metadata": {
        "id": "6B5hTjhUan8k"
      },
      "outputs": [],
      "source": [
        "n.resize(2, 12) # reshape modifies the array itself"
      ]
    },
    {
      "cell_type": "code",
      "execution_count": 87,
      "metadata": {
        "colab": {
          "base_uri": "https://localhost:8080/"
        },
        "id": "9aFj1vT8OnAI",
        "outputId": "ca33d488-d764-4cb4-bbc5-c63b754cb4c8"
      },
      "outputs": [
        {
          "output_type": "execute_result",
          "data": {
            "text/plain": [
              "array([[44, 94, 18,  6, 24,  3, 72, 71, 73, 39, 70, 27],\n",
              "       [86, 35, 22, 72, 17, 15, 99, 11, 82, 99, 39, 89]])"
            ]
          },
          "metadata": {},
          "execution_count": 87
        }
      ],
      "source": [
        "n"
      ]
    },
    {
      "cell_type": "code",
      "execution_count": 88,
      "metadata": {
        "colab": {
          "base_uri": "https://localhost:8080/"
        },
        "id": "5JRMNhPkavSS",
        "outputId": "63c038bf-6630-496d-90b1-6b99b0c261be"
      },
      "outputs": [
        {
          "output_type": "execute_result",
          "data": {
            "text/plain": [
              "(2, 12)"
            ]
          },
          "metadata": {},
          "execution_count": 88
        }
      ],
      "source": [
        "n.shape"
      ]
    },
    {
      "cell_type": "markdown",
      "metadata": {
        "id": "W5aOewSkV2xq"
      },
      "source": [
        "# `matplotlib`\n",
        "\n",
        "A library that allows you to generate graphs. Its interface is very similar to Matlab.\n",
        "\n",
        "The following shows basic plotting examples. If you want something else or more complicated, check this [gallery](https://matplotlib.org/stable/gallery/index.html), look for what might be close to what you want, copy its code, play around with it and adapt it to your needs."
      ]
    },
    {
      "cell_type": "code",
      "execution_count": 89,
      "metadata": {
        "colab": {
          "base_uri": "https://localhost:8080/",
          "height": 486
        },
        "id": "XXe1oCaPV3GR",
        "outputId": "403e8d05-f5db-48c5-a870-de646af83eca"
      },
      "outputs": [
        {
          "output_type": "display_data",
          "data": {
            "text/plain": [
              "<Figure size 640x480 with 1 Axes>"
            ],
            "image/png": "[encoded data removed]"
          },
          "metadata": {}
        }
      ],
      "source": [
        "import matplotlib.pyplot as plt\n",
        "import numpy as np\n",
        "\n",
        "x = np.linspace(-100, 100, 50)\n",
        "y = x ** 2\n",
        "\n",
        "plt.plot(x, y, 'g--', linewidth=2)\n",
        "plt.xlabel('$x$', fontsize=20)\n",
        "plt.ylabel('$y = x^2$', fontsize=20)\n",
        "plt.title('Plot')\n",
        "plt.grid('on')"
      ]
    },
    {
      "cell_type": "code",
      "execution_count": 90,
      "metadata": {
        "colab": {
          "base_uri": "https://localhost:8080/",
          "height": 471
        },
        "id": "d-KpkRCTV4Rw",
        "outputId": "086560ae-7c75-4214-a9f8-dc957e0930e1"
      },
      "outputs": [
        {
          "output_type": "execute_result",
          "data": {
            "text/plain": [
              "<matplotlib.legend.Legend at 0x7faa34ed6310>"
            ]
          },
          "metadata": {},
          "execution_count": 90
        },
        {
          "output_type": "display_data",
          "data": {
            "text/plain": [
              "<Figure size 640x480 with 1 Axes>"
            ],
            "image/png": "[encoded data removed]"
          },
          "metadata": {}
        }
      ],
      "source": [
        "x = np.linspace(-1.5, 1.3, 50)\n",
        "plt.plot(x, x, 'b--', x, x**2, 'g:', x, x**3, 'm^', linewidth=2)\n",
        "plt.grid('on')\n",
        "plt.xlabel('$x$', fontsize=14)\n",
        "plt.legend(['$x$', '$x^2$', '$x^3$'], loc='lower center', fontsize=14)"
      ]
    }
  ],
  "metadata": {
    "colab": {
      "provenance": [],
      "gpuType": "T4"
    },
    "kernelspec": {
      "display_name": "Python 3",
      "name": "python3"
    },
    "language_info": {
      "codemirror_mode": {
        "name": "ipython",
        "version": 3
      },
      "file_extension": ".py",
      "mimetype": "text/x-python",
      "name": "python",
      "nbconvert_exporter": "python",
      "pygments_lexer": "ipython3",
      "version": "3.13.2"
    },
    "accelerator": "GPU"
  },
  "nbformat": 4,
  "nbformat_minor": 0
}