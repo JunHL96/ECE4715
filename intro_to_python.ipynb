{
  "cells": [
    {
      "cell_type": "markdown",
      "metadata": {
        "id": "view-in-github",
        "colab_type": "text"
      },
      "source": [
        "<a href=\"https://colab.research.google.com/github/JunHL96/ECE4715/blob/main/intro_to_python.ipynb\" target=\"_parent\"><img src=\"https://colab.research.google.com/assets/colab-badge.svg\" alt=\"Open In Colab\"/></a>"
      ]
    },
    {
      "cell_type": "markdown",
      "metadata": {
        "id": "MH4eteTVsISw"
      },
      "source": [
        "# Introduction to Python\n",
        "\n",
        "**Objective:** To introduce Python, its syntax, basic data types, and control structures.\n",
        "\n",
        "**IDEs**\n",
        "   - [Colab](https://colab.google/)  \n",
        "   - [Jupyter](https://jupyter.org/)\n",
        "   - [Visual Studio Code](https://code.visualstudio.com/). You might want to install the Jupyter plugin\n",
        "   - [PyCharm](https://www.jetbrains.com/community/education/#students)\n"
      ]
    },
    {
      "cell_type": "markdown",
      "metadata": {
        "id": "2GuzMG7huHMv"
      },
      "source": [
        "## Python Basics"
      ]
    },
    {
      "cell_type": "markdown",
      "metadata": {
        "id": "G572-QQsi0zh"
      },
      "source": [
        "**Python as an Interpreted Language**  \n",
        "- **Interpreted Execution**: Python code is executed line-by-line by the Python interpreter, rather than being compiled into machine code beforehand. This means you can run Python code directly without needing a separate compilation step.  \n",
        "- **Dynamic Typing**: Python determines the type of variables at runtime, which makes it flexible and easier to write and debug.  \n",
        "- **Interactive Shell**: Python provides an interactive shell (REPL - Read-Eval-Print Loop) that allows developers to test code snippets instantly, making it ideal for experimentation and learning.  \n",
        "\n",
        "**Benefits of Python**  \n",
        "- **Ease of Learning and Use**: Python's syntax is simple and readable, making it accessible for beginners and reducing the time needed to write and maintain code.  \n",
        "- **Extensive Libraries and Frameworks**: Python has a rich ecosystem of libraries (e.g., NumPy, Pandas, Matplotlib) and frameworks (e.g., Django, Flask) that simplify development across various domains.  \n",
        "- **Cross-Platform Compatibility**: Python runs on multiple platforms (Windows, macOS, Linux) without requiring significant changes to the code.  \n",
        "- **Strong Community Support**: Python has a large and active community, providing extensive documentation, tutorials, and third-party tools.  \n",
        "\n",
        "**Why Python is Widely Used for Machine Learning**  \n",
        "- **Rich ML Libraries**: Python offers powerful libraries like TensorFlow, PyTorch, and Scikit-learn, which provide pre-built tools for machine learning and deep learning tasks.  \n",
        "- **Data Handling Capabilities**: Libraries like Pandas and NumPy make it easy to manipulate and analyze large datasets, which is crucial for machine learning workflows.  \n",
        "- **Integration with Other Tools**: Python integrates seamlessly with data visualization tools (e.g., Matplotlib, Seaborn) and big data frameworks (e.g., Apache Spark), making it a versatile choice for ML projects.  \n",
        "- **Rapid Prototyping**: Python's simplicity and readability allow developers to quickly prototype and test machine learning models, speeding up the development cycle.  \n",
        "\n",
        "**Comparison with Other Languages**  \n",
        "- **Performance**: While Python is slower than compiled languages like C++ or Java, its ease of use and extensive libraries often outweigh performance concerns, especially for prototyping and research.  \n",
        "- **Flexibility**: Python's dynamic typing and interpreted nature make it more flexible than statically typed languages, which can be restrictive for certain ML tasks.  \n",
        "- **Community and Ecosystem**: Python's dominance in the ML community ensures better support, more resources, and faster adoption of new technologies compared to niche languages.  \n",
        "\n",
        "In summary, Python's simplicity, versatility, and robust ecosystem make it a preferred choice for both general-purpose programming and machine learning."
      ]
    },
    {
      "cell_type": "code",
      "execution_count": 1,
      "metadata": {
        "colab": {
          "base_uri": "https://localhost:8080/"
        },
        "id": "cGjE7mXguirM",
        "outputId": "038625f4-381f-49c4-8ae4-d838d0e2ca4f"
      },
      "outputs": [
        {
          "output_type": "stream",
          "name": "stdout",
          "text": [
            "Hello, World!\n"
          ]
        }
      ],
      "source": [
        "# Printing \"Hello, World!\"\n",
        "print(\"Hello, World!\")"
      ]
    },
    {
      "cell_type": "markdown",
      "metadata": {
        "id": "7o19XV0FvPqT"
      },
      "source": [
        " **Indentation and whitespace significance**\n",
        "\n",
        " Python uses indentation (usually four spaces) to indicate code blocks. In C/C++, you typically use curly braces `{}` to define code blocks. In Python, consistent indentation is crucial for code readability and structure. Incorrect indentation can result in syntax errors."
      ]
    },
    {
      "cell_type": "code",
      "execution_count": 2,
      "metadata": {
        "colab": {
          "base_uri": "https://localhost:8080/"
        },
        "id": "9bwDxEj6uwau",
        "outputId": "e0cf660e-2451-47bb-ba90-75aa8c95708f"
      },
      "outputs": [
        {
          "output_type": "stream",
          "name": "stdout",
          "text": [
            "This is indented.\n",
            "Python uses indentation to define code blocks.\n"
          ]
        }
      ],
      "source": [
        "if True:\n",
        "    print(\"This is indented.\")\n",
        "    print(\"Python uses indentation to define code blocks.\")\n"
      ]
    },
    {
      "cell_type": "markdown",
      "metadata": {
        "id": "SxG69_yqvl91"
      },
      "source": [
        "**Variables and dynamic typing**\n",
        "\n",
        "Python uses dynamic typing, which means you don't have to declare a variable's type explicitly. The type is determined at runtime based on the value you assign to it. This flexibility can make code shorter and more readable compared to statically-typed languages like C/C++."
      ]
    },
    {
      "cell_type": "code",
      "execution_count": 3,
      "metadata": {
        "colab": {
          "base_uri": "https://localhost:8080/"
        },
        "id": "GpLhW4T0vwW-",
        "outputId": "a29e4ebb-3ee6-42ed-d847-2fc67fb55c86"
      },
      "outputs": [
        {
          "output_type": "stream",
          "name": "stdout",
          "text": [
            "<class 'int'>\n",
            "<class 'str'>\n"
          ]
        }
      ],
      "source": [
        "# Variables and dynamic typing\n",
        "x = 10  # x is an integer\n",
        "y = 3.14  # y is a float\n",
        "name = \"Alice\"  # name is a string\n",
        "is_student = True  # is_student is a boolean\n",
        "\n",
        "# Reassigning a variable\n",
        "print(type(x))\n",
        "x = \"Hello\"  # Now x is a string\n",
        "print(type(x))"
      ]
    },
    {
      "cell_type": "markdown",
      "metadata": {
        "id": "QkVl3FkEwQan"
      },
      "source": [
        "**Basic Data Types: int, float, string, boolean**\n",
        "\n",
        "Python supports various basic data types, including:\n",
        "\n",
        "* `int`: Integer data type for whole numbers.\n",
        "* `float`: Floating-point data type for decimal numbers.\n",
        "* `str`: String data type for text.\n",
        "* `bool`: Boolean data type for true or false values.\n",
        "\n",
        "If necessary, you can perform type conversions easily using functions like `str()`, `int()`, and `float()` to change data types as needed."
      ]
    },
    {
      "cell_type": "code",
      "execution_count": 4,
      "metadata": {
        "colab": {
          "base_uri": "https://localhost:8080/"
        },
        "id": "14M5K_Bkwy2N",
        "outputId": "3af1ecab-75f5-4e36-f2ee-2d74bbe6c7e0"
      },
      "outputs": [
        {
          "output_type": "stream",
          "name": "stdout",
          "text": [
            "integer_num is of type: <class 'int'>\n",
            "num_as_string is of type: <class 'str'>\n",
            "float_as_int is of type: <class 'int'>\n"
          ]
        }
      ],
      "source": [
        "# Basic data types\n",
        "integer_num = 42\n",
        "floating_num = 3.14\n",
        "text = \"Python is great!\"\n",
        "is_python_fun = True\n",
        "\n",
        "# Type conversion\n",
        "num_as_string = str(integer_num)\n",
        "float_as_int = int(floating_num)\n",
        "\n",
        "print(\"integer_num is of type:\", type(integer_num))\n",
        "print(\"num_as_string is of type:\", type(num_as_string))\n",
        "print(\"float_as_int is of type:\", type(float_as_int))"
      ]
    },
    {
      "cell_type": "markdown",
      "metadata": {
        "id": "b19vpiMaxZDn"
      },
      "source": [
        "## Control Structures"
      ]
    },
    {
      "cell_type": "markdown",
      "metadata": {
        "id": "CpiZz6yfxht-"
      },
      "source": [
        "### Conditional Statements:\n",
        "\n",
        "`if`, `elif`, `else` work as you would expect.\n",
        "\n",
        "Relational operators | Meaning\n",
        "- | -\n",
        "== | equal\n",
        "!= | not equal\n",
        "< | less than\n",
        "<= | less or euqal\n",
        "> | greater than\n",
        ">= | greater or equal than\n",
        "\n",
        "------------------------------\n",
        "\n",
        "\n",
        "Boolean logic operators | Meaning\n",
        "- | -\n",
        "and | logic and\n",
        "or | logic or\n",
        "not | logic not"
      ]
    },
    {
      "cell_type": "code",
      "execution_count": 5,
      "metadata": {
        "colab": {
          "base_uri": "https://localhost:8080/"
        },
        "id": "CaQVLk08ySzq",
        "outputId": "6a7f7796-f36b-4d3e-944e-4622f140d3c1"
      },
      "outputs": [
        {
          "output_type": "stream",
          "name": "stdout",
          "text": [
            "You are an adult.\n"
          ]
        }
      ],
      "source": [
        "# Conditional statements\n",
        "age = 25\n",
        "\n",
        "if age < 18:\n",
        "    print(\"You are a minor.\")\n",
        "elif age >= 18 and age < 65:\n",
        "    print(\"You are an adult.\")\n",
        "else:\n",
        "    print(\"You are a senior citizen.\")\n"
      ]
    },
    {
      "cell_type": "markdown",
      "metadata": {
        "id": "z8VNzJDdy-e_"
      },
      "source": [
        "You can test conditional statements"
      ]
    },
    {
      "cell_type": "code",
      "execution_count": 6,
      "metadata": {
        "id": "pWwaQ_9Fy9sy"
      },
      "outputs": [],
      "source": [
        "x = 5"
      ]
    },
    {
      "cell_type": "code",
      "execution_count": 7,
      "metadata": {
        "colab": {
          "base_uri": "https://localhost:8080/"
        },
        "id": "rXXe6dK3zFfW",
        "outputId": "311c87cc-fdc4-4ff5-bc86-1abd23eec668"
      },
      "outputs": [
        {
          "output_type": "execute_result",
          "data": {
            "text/plain": [
              "True"
            ]
          },
          "metadata": {},
          "execution_count": 7
        }
      ],
      "source": [
        "x == 5"
      ]
    },
    {
      "cell_type": "code",
      "execution_count": 8,
      "metadata": {
        "colab": {
          "base_uri": "https://localhost:8080/"
        },
        "id": "kxTyNv_FzH43",
        "outputId": "c688ee39-5dc1-48f1-fd82-e9a7e64de142"
      },
      "outputs": [
        {
          "output_type": "execute_result",
          "data": {
            "text/plain": [
              "True"
            ]
          },
          "metadata": {},
          "execution_count": 8
        }
      ],
      "source": [
        "x != 8"
      ]
    },
    {
      "cell_type": "code",
      "execution_count": 9,
      "metadata": {
        "colab": {
          "base_uri": "https://localhost:8080/"
        },
        "id": "AeMMa0Y3zH_w",
        "outputId": "4382c2d6-94ce-4f29-d30c-bfc3031a8795"
      },
      "outputs": [
        {
          "output_type": "execute_result",
          "data": {
            "text/plain": [
              "True"
            ]
          },
          "metadata": {},
          "execution_count": 9
        }
      ],
      "source": [
        "(x > 3) and (x < 10)"
      ]
    },
    {
      "cell_type": "markdown",
      "metadata": {
        "id": "oZugedfwzVCI"
      },
      "source": [
        "### Loops\n",
        "\n",
        "`for`, `while`, `break`, `continue` operate as you would expect"
      ]
    },
    {
      "cell_type": "code",
      "execution_count": 10,
      "metadata": {
        "colab": {
          "base_uri": "https://localhost:8080/"
        },
        "id": "KfQC0Y_bzuBw",
        "outputId": "4c15f112-7e34-45f4-fc2c-ae0be3971b2d"
      },
      "outputs": [
        {
          "output_type": "stream",
          "name": "stdout",
          "text": [
            "2\n",
            "4\n",
            "5\n",
            "6\n"
          ]
        }
      ],
      "source": [
        "l = [2, 4, 5, 6]\n",
        "for i in l:\n",
        "  print(i)"
      ]
    },
    {
      "cell_type": "code",
      "execution_count": 11,
      "metadata": {
        "colab": {
          "base_uri": "https://localhost:8080/"
        },
        "id": "dw5I6SjIzxNY",
        "outputId": "f91dd4e4-ec6e-46b1-9335-f000b1d3bd93"
      },
      "outputs": [
        {
          "output_type": "stream",
          "name": "stdout",
          "text": [
            "0\n",
            "1\n",
            "2\n",
            "3\n",
            "4\n",
            "5\n",
            "6\n",
            "7\n",
            "8\n",
            "9\n"
          ]
        }
      ],
      "source": [
        "for i in range(10):\n",
        "  print(i)"
      ]
    },
    {
      "cell_type": "code",
      "execution_count": 12,
      "metadata": {
        "colab": {
          "base_uri": "https://localhost:8080/"
        },
        "id": "FqVT99hhzIF2",
        "outputId": "bf65dbac-1a6f-4465-88ef-4bafa21e39d3"
      },
      "outputs": [
        {
          "output_type": "stream",
          "name": "stdout",
          "text": [
            "apple\n",
            "banana\n",
            "cherry\n"
          ]
        }
      ],
      "source": [
        "# For loop to iterate through a list\n",
        "fruits = [\"apple\", \"banana\", \"cherry\"]\n",
        "\n",
        "for fruit in fruits:\n",
        "    print(fruit)\n"
      ]
    },
    {
      "cell_type": "code",
      "execution_count": 13,
      "metadata": {
        "colab": {
          "base_uri": "https://localhost:8080/"
        },
        "id": "EbGtRc4Tz0Y3",
        "outputId": "09ed35d4-440d-41c5-97f5-a375c1380505"
      },
      "outputs": [
        {
          "output_type": "stream",
          "name": "stdout",
          "text": [
            "1\n",
            "2\n",
            "3\n",
            "4\n",
            "5\n"
          ]
        }
      ],
      "source": [
        "# While loop to count from 1 to 5\n",
        "count = 1\n",
        "\n",
        "while count <= 5:\n",
        "    print(count)\n",
        "    count += 1\n"
      ]
    },
    {
      "cell_type": "markdown",
      "metadata": {
        "id": "of7yj_CH0cls"
      },
      "source": [
        "## Containers"
      ]
    },
    {
      "cell_type": "markdown",
      "metadata": {
        "id": "UEIwh2eI0oKt"
      },
      "source": [
        "### Lists\n",
        "\n",
        "Lists are one of the most commonly used data structures in Python. They can hold a collection of items and are mutable, meaning you can change their contents after creation."
      ]
    },
    {
      "cell_type": "code",
      "execution_count": 14,
      "metadata": {
        "colab": {
          "base_uri": "https://localhost:8080/"
        },
        "id": "SdZ4m-1b0wp6",
        "outputId": "4812f8d9-0b16-49c6-c74c-9e7e6c72a96f"
      },
      "outputs": [
        {
          "output_type": "stream",
          "name": "stdout",
          "text": [
            "['apple', 'banana', 'cherry']\n"
          ]
        }
      ],
      "source": [
        "# Creating a list\n",
        "fruits = [\"apple\", \"banana\", \"cherry\"]\n",
        "\n",
        "print(fruits)"
      ]
    },
    {
      "cell_type": "code",
      "execution_count": 15,
      "metadata": {
        "colab": {
          "base_uri": "https://localhost:8080/"
        },
        "id": "09suakKri0zk",
        "outputId": "2bbe58fe-7835-4576-bdcd-679e076aacfe"
      },
      "outputs": [
        {
          "output_type": "stream",
          "name": "stdout",
          "text": [
            "apple\n",
            "banana\n",
            "cherry\n"
          ]
        }
      ],
      "source": [
        "for f in fruits:\n",
        "    print(f)"
      ]
    },
    {
      "cell_type": "code",
      "execution_count": 16,
      "metadata": {
        "colab": {
          "base_uri": "https://localhost:8080/"
        },
        "id": "pqLe9VaQ04N9",
        "outputId": "2a9c48fa-5c64-49f0-e294-1df12896b552"
      },
      "outputs": [
        {
          "output_type": "stream",
          "name": "stdout",
          "text": [
            "['apple', 'banana', 'cherry', 'orange']\n"
          ]
        }
      ],
      "source": [
        "# Adding elements to a list\n",
        "fruits.append(\"orange\")\n",
        "\n",
        "print(fruits)"
      ]
    },
    {
      "cell_type": "code",
      "execution_count": 17,
      "metadata": {
        "colab": {
          "base_uri": "https://localhost:8080/"
        },
        "id": "n5kL0SOq1vAP",
        "outputId": "ebb07f2d-17bd-4724-821b-db878f1a831b"
      },
      "outputs": [
        {
          "output_type": "stream",
          "name": "stdout",
          "text": [
            "['apple', 'banana', 'cherry', 'orange', 'melon', 'melon']\n"
          ]
        }
      ],
      "source": [
        "# Another way to add is to use +\n",
        "fruits += ['melon']\n",
        "fruits = fruits + ['melon']\n",
        "\n",
        "print(fruits)"
      ]
    },
    {
      "cell_type": "code",
      "execution_count": 18,
      "metadata": {
        "colab": {
          "base_uri": "https://localhost:8080/"
        },
        "id": "gVfUMWPd1EsE",
        "outputId": "1d9f7fb9-b7e8-4aa6-ad8e-20836eb2eee2"
      },
      "outputs": [
        {
          "output_type": "stream",
          "name": "stdout",
          "text": [
            "apple\n"
          ]
        }
      ],
      "source": [
        "# Accessing elements by index\n",
        "print(fruits[0])"
      ]
    },
    {
      "cell_type": "code",
      "execution_count": 19,
      "metadata": {
        "colab": {
          "base_uri": "https://localhost:8080/"
        },
        "id": "XK7vWQhi1eiS",
        "outputId": "ed90cc06-6d02-4744-8b89-a666f52e3b65"
      },
      "outputs": [
        {
          "output_type": "stream",
          "name": "stdout",
          "text": [
            "['apple', 'kiwi', 'cherry', 'orange', 'melon', 'melon']\n"
          ]
        }
      ],
      "source": [
        "# Modifying Elemnts\n",
        "fruits[1] = \"kiwi\"\n",
        "\n",
        "print(fruits)"
      ]
    },
    {
      "cell_type": "markdown",
      "metadata": {
        "id": "f77EQzqm2FQv"
      },
      "source": [
        "#### Slicing\n",
        "\n",
        "List slicing is a powerful feature in Python that allows you to extract specific portions or segments of a list. It is done by specifying a start index, an end index, and an optional step value within square brackets `[start:end:step]`. Here's a breakdown of how list slicing works:\n",
        "\n",
        "1. **Start Index**: This is the index of the element where the slice begins. The element at this index is included in the slice (inclusive). If you omit the start index, it defaults to 0 (the beginning of the list).\n",
        "\n",
        "2. **End Index**: This is the index of the element where the slice ends. The element at this index is not included in the slice (exclusive). If you omit the end index, it goes up to the end of the list.\n",
        "\n",
        "3. **Step Value**: This is an optional parameter that specifies the step or interval between elements to include in the slice. It can be used to skip elements in the list. If you omit the step value, it defaults to 1 (every element is included).\n",
        "\n",
        "\n",
        "Some important points to note:\n",
        "\n",
        "- List slicing returns a new list containing the selected elements; it doesn't modify the original list.\n",
        "- If the start index is greater than or equal to the end index, an empty list is returned.\n",
        "- Slicing with a negative step can be used to reverse a list or extract elements in reverse order.\n",
        "\n",
        "Here are some examples to illustrate list slicing:\n"
      ]
    },
    {
      "cell_type": "code",
      "execution_count": 20,
      "metadata": {
        "colab": {
          "base_uri": "https://localhost:8080/"
        },
        "id": "Fit4cUFi2e7w",
        "outputId": "b22bfda2-ba2d-41f3-e03e-476426bca094"
      },
      "outputs": [
        {
          "output_type": "stream",
          "name": "stdout",
          "text": [
            "slice1: [2, 3, 4]\n",
            "slice2: [1, 2, 3, 4, 5, 6, 7, 8, 9]\n",
            "slice3: [0, 2, 4, 6]\n",
            "slice4: [9, 8, 7, 6, 5, 4, 3, 2, 1, 0]\n"
          ]
        }
      ],
      "source": [
        "my_list = [0, 1, 2, 3, 4, 5, 6, 7, 8, 9]\n",
        "\n",
        "# Slicing from index 2 to 5 (exclusive), step by 1\n",
        "slice1 = my_list[2:5]\n",
        "print(\"slice1:\", slice1)\n",
        "\n",
        "# Slicing from index 1 to the end\n",
        "slice2 = my_list[1:]    # we didn't specify the 2nd index, so it will go till the end\n",
        "print(\"slice2:\", slice2)\n",
        "\n",
        "# Slicing from the beginning to index 7 (exclusive), step by 2\n",
        "slice3 = my_list[:7:2]\n",
        "print(\"slice3:\", slice3)\n",
        "\n",
        "# Reverse the list using a negative step\n",
        "slice4 = my_list[::-1]\n",
        "print(\"slice4:\", slice4)\n"
      ]
    },
    {
      "cell_type": "markdown",
      "metadata": {
        "id": "5nAJMbJg3E7w"
      },
      "source": [
        "#### Hetrogenious Lists\n",
        "\n",
        "Lists are  heterogeneous, which means they can contain elements of different data types within the same list.\n"
      ]
    },
    {
      "cell_type": "code",
      "execution_count": 21,
      "metadata": {
        "colab": {
          "base_uri": "https://localhost:8080/"
        },
        "id": "FNGDR3Dq3_cP",
        "outputId": "2a15dba5-02f4-4c40-8e5c-b4eb050c6694"
      },
      "outputs": [
        {
          "output_type": "stream",
          "name": "stdout",
          "text": [
            "[1, 2.5, 'Hello', True, [10, 20, 30]]\n"
          ]
        }
      ],
      "source": [
        "mixed_list = [1, 2.5, \"Hello\", True, [10, 20, 30]]\n",
        "\n",
        "print(mixed_list)"
      ]
    },
    {
      "cell_type": "code",
      "execution_count": 22,
      "metadata": {
        "colab": {
          "base_uri": "https://localhost:8080/"
        },
        "id": "O-Zpy47I4FfK",
        "outputId": "88fb8568-7170-44e9-e73d-4535e44a7106"
      },
      "outputs": [
        {
          "output_type": "execute_result",
          "data": {
            "text/plain": [
              "[[1, 2, 3], [40, 50, 60]]"
            ]
          },
          "metadata": {},
          "execution_count": 22
        }
      ],
      "source": [
        "# List items can be other lists as well\n",
        "list_of_lists = [[1, 2, 3], [40, 50, 60]]\n",
        "list_of_lists"
      ]
    },
    {
      "cell_type": "code",
      "execution_count": 23,
      "metadata": {
        "colab": {
          "base_uri": "https://localhost:8080/"
        },
        "id": "ik_uzC8t4HJ3",
        "outputId": "2ebecbdd-06bc-4d79-f2b7-b4f6777e3385"
      },
      "outputs": [
        {
          "output_type": "stream",
          "name": "stdout",
          "text": [
            "[[1, 2, 3], [5, 6]]\n"
          ]
        }
      ],
      "source": [
        "# The lists within a list need not be of the same length\n",
        "list_of_lists = [[1, 2, 3], [5, 6]]\n",
        "print(list_of_lists)"
      ]
    },
    {
      "cell_type": "code",
      "execution_count": 24,
      "metadata": {
        "colab": {
          "base_uri": "https://localhost:8080/"
        },
        "id": "WV5RWu9p4NZj",
        "outputId": "be2ac0a2-0e10-46b6-a109-b509007ad438"
      },
      "outputs": [
        {
          "output_type": "execute_result",
          "data": {
            "text/plain": [
              "2"
            ]
          },
          "metadata": {},
          "execution_count": 24
        }
      ],
      "source": [
        "len(list_of_lists)"
      ]
    },
    {
      "cell_type": "markdown",
      "metadata": {
        "id": "GZn5QJohB-JE"
      },
      "source": [
        "#### List Comprehensions\n"
      ]
    },
    {
      "cell_type": "markdown",
      "metadata": {
        "id": "bDENs5wTi0zo"
      },
      "source": [
        "### **List Comprehensions in Python**\n",
        "\n",
        "List comprehensions provide a concise way to create lists by applying an expression to each element in an iterable.\n",
        "\n",
        "#### **Syntax**\n",
        "```python\n",
        "[expression for item in iterable]\n",
        "```\n",
        "- **`expression`**: Value to include in the new list.\n",
        "- **`item`**: Variable representing each element in the iterable.\n",
        "- **`iterable`**: Sequence (e.g., list, tuple, range) being iterated over.\n",
        "\n",
        "##### **Example 1: Basic**\n",
        "```python\n",
        "squares = [x**2 for x in range(10)]\n",
        "# Output: [0, 1, 4, 9, 16, 25, 36, 49, 64, 81]\n",
        "```\n",
        "\n",
        "#### **Conditional Filtering**\n",
        "Add an `if` clause to filter elements:\n",
        "```python\n",
        "[expression for item in iterable if condition]\n",
        "```\n",
        "\n",
        "##### **Example 2: Filtering**\n",
        "```python\n",
        "evens = [x for x in range(10) if x % 2 == 0]\n",
        "# Output: [0, 2, 4, 6, 8]\n",
        "```\n",
        "\n",
        "#### **Nested Comprehensions**\n",
        "Use nested comprehensions for complex structures like matrices.\n",
        "\n",
        "##### **Example 3: Nested**\n",
        "```python\n",
        "matrix = [[i + j for j in range(3)] for i in range(3)]\n",
        "# Output: [[0, 1, 2], [1, 2, 3], [2, 3, 4]]\n",
        "```\n",
        "\n",
        "#### **Multiple Iterables**\n",
        "Combine elements from multiple iterables.\n",
        "\n",
        "##### **Example 4: Multiple Iterables**\n",
        "```python\n",
        "combined = [(x, y) for x in [1, 2, 3] for y in ['a', 'b', 'c']]\n",
        "# Output: [(1, 'a'), (1, 'b'), (1, 'c'), (2, 'a'), (2, 'b'), (2, 'c'), (3, 'a'), (3, 'b'), (3, 'c')]\n",
        "```\n",
        "\n",
        "#### **Advantages**\n",
        "1. **Readability**: More concise than `for` loops.\n",
        "2. **Performance**: Often faster due to internal optimizations.\n",
        "3. **Expressiveness**: Simplifies complex list generation and filtering.\n",
        "\n",
        "#### **When to Use**\n",
        "- Use for simple transformations or filtering.\n",
        "- Avoid for overly complex logic; prefer `for` loops in such cases.\n",
        "\n"
      ]
    },
    {
      "cell_type": "code",
      "execution_count": 25,
      "metadata": {
        "colab": {
          "base_uri": "https://localhost:8080/"
        },
        "id": "IWa6b3AzEFqh",
        "outputId": "4188e533-b1fd-4380-ac12-c92bf7f592f8"
      },
      "outputs": [
        {
          "output_type": "stream",
          "name": "stdout",
          "text": [
            "[1, 4, 9, 16, 25]\n",
            "[1, 4, 9, 16, 25]\n"
          ]
        }
      ],
      "source": [
        "# Using a for loop to create a list of squares\n",
        "squares = []\n",
        "for x in range(1, 6):\n",
        "    squares.append(x**2)\n",
        "\n",
        "# Using a list comprehension for the same task\n",
        "squares_comprehension = [x**2 for x in range(1, 6)]\n",
        "\n",
        "print(squares)                # [1, 4, 9, 16, 25]\n",
        "print(squares_comprehension)  # [1, 4, 9, 16, 25]"
      ]
    },
    {
      "cell_type": "markdown",
      "metadata": {
        "id": "mFqt36p3ETZb"
      },
      "source": [
        "**List comprehensions with conditional statements**"
      ]
    },
    {
      "cell_type": "code",
      "execution_count": 26,
      "metadata": {
        "colab": {
          "base_uri": "https://localhost:8080/"
        },
        "id": "NuoBXrXGEYiV",
        "outputId": "6cda023c-b781-4ad2-b458-6eab228c23dc"
      },
      "outputs": [
        {
          "output_type": "stream",
          "name": "stdout",
          "text": [
            "Transposed Matrix (using nested loops):\n",
            "[1, 4, 7]\n",
            "[2, 5, 8]\n",
            "[3, 6, 9]\n",
            "\n",
            "Transposed Matrix (using list comprehension):\n",
            "[1, 4, 7]\n",
            "[2, 5, 8]\n",
            "[3, 6, 9]\n"
          ]
        }
      ],
      "source": [
        "matrix = [\n",
        "    [1, 2, 3],\n",
        "    [4, 5, 6],\n",
        "    [7, 8, 9]\n",
        "]   # a list of lists\n",
        "\n",
        "# Corrected nested loop to transpose the matrix\n",
        "transposed_matrix = []\n",
        "for i in range(len(matrix[0])):  # iterate over the columns\n",
        "    transposed_row = []  # create a new row for the transposed matrix\n",
        "    for row in matrix:\n",
        "        transposed_row.append(row[i])  # add the i-th element from each row\n",
        "    transposed_matrix.append(transposed_row)  # add the new row to the transposed matrix\n",
        "\n",
        "print(\"Transposed Matrix (using nested loops):\")\n",
        "for row in transposed_matrix:\n",
        "    print(row)\n",
        "\n",
        "# Using nested list comprehensions to transpose the matrix\n",
        "transpose = [[row[i] for row in matrix] for i in range(len(matrix[0]))]\n",
        "\n",
        "print(\"\\nTransposed Matrix (using list comprehension):\")\n",
        "for row in transpose:\n",
        "    print(row)"
      ]
    },
    {
      "cell_type": "markdown",
      "metadata": {
        "id": "C8oVP0jCE4uZ"
      },
      "source": [
        "**Nested List Comprehensions**"
      ]
    },
    {
      "cell_type": "code",
      "execution_count": 27,
      "metadata": {
        "colab": {
          "base_uri": "https://localhost:8080/"
        },
        "id": "MTrfjb3pFu2U",
        "outputId": "f98a835e-a715-4eb7-d4de-86c4fff7e6d2"
      },
      "outputs": [
        {
          "output_type": "stream",
          "name": "stdout",
          "text": [
            "First row: [1, 2, 3]\n",
            "Number of columns: 3\n",
            "Transposed Matrix (using nested loops):\n",
            "[1, 4, 7]\n",
            "[2, 5, 8]\n",
            "[3, 6, 9]\n",
            "\n",
            "Transposed Matrix (using list comprehension):\n",
            "[1, 4, 7]\n",
            "[2, 5, 8]\n",
            "[3, 6, 9]\n"
          ]
        }
      ],
      "source": [
        "matrix = [\n",
        "    [1, 2, 3],\n",
        "    [4, 5, 6],\n",
        "    [7, 8, 9]\n",
        "]   # a list of lists\n",
        "\n",
        "print(\"First row:\", matrix[0])\n",
        "print(\"Number of columns:\", len(matrix[0])) # this gives the number of columns by looking at the length of the first row\n",
        "\n",
        "# Transpose the matrix\n",
        "transposed_matrix = []\n",
        "for i in range(len(matrix[0])):  # iterate over the columns\n",
        "    transposed_row = []  # create a new row for the transposed matrix\n",
        "    for row in matrix:\n",
        "        transposed_row.append(row[i])  # add the i-th element from each row\n",
        "    transposed_matrix.append(transposed_row)  # add the new row to the transposed matrix\n",
        "\n",
        "print(\"Transposed Matrix (using nested loops):\")\n",
        "for row in transposed_matrix:\n",
        "    print(row)\n",
        "\n",
        "\n",
        "# Using nested list comprehensions to transpose the matrix\n",
        "transpose = [[row[i] for row in matrix] for i in range(len(matrix[0]))] # outer loop and inner loop\n",
        "\n",
        "print(\"\\nTransposed Matrix (using list comprehension):\")\n",
        "for row in transpose:\n",
        "    print(row)\n",
        ""
      ]
    },
    {
      "cell_type": "markdown",
      "metadata": {
        "id": "SsPSfXvsi0zo"
      },
      "source": [
        "**Explanation of the Nested Loop**\n",
        "\n",
        "- **Goal**:\n",
        "  - Transpose the matrix (swap rows and columns).\n",
        "\n",
        "- **Initialization**:\n",
        "  - `transposed_matrix = []`:\n",
        "    - An empty list to store the transposed matrix.\n",
        "\n",
        "- **Outer Loop (`for i in range(len(matrix[0]))`)**:\n",
        "  - Iterates over the range of the number of columns in the original matrix.\n",
        "  - `len(matrix[0])` gives the number of columns (since `matrix[0]` is the first row).\n",
        "\n",
        "- **Inner Loop (`for row in matrix`)**:\n",
        "  - Iterates over each row in the original matrix.\n",
        "\n",
        "- **Transposing Logic**:\n",
        "  - `transposed_row = []`:\n",
        "    - Creates a new empty row for the transposed matrix.\n",
        "  - `transposed_row.append(row[i])`:\n",
        "    - Appends the `i`-th element from the current row to the new row.\n",
        "    - This effectively collects elements from the same column across all rows.\n",
        "\n",
        "- **Building the Transposed Matrix**:\n",
        "  - `transposed_matrix.append(transposed_row)`:\n",
        "    - Adds the newly constructed row (`transposed_row`) to the transposed matrix.\n",
        "\n",
        "- **Step-by-Step Execution**:\n",
        "  1. **First Iteration (`i = 0`)**:\n",
        "     - Collects the first element from each row: `[1, 4, 7]`.\n",
        "     - Appends `[1, 4, 7]` to `transposed_matrix`.\n",
        "  2. **Second Iteration (`i = 1`)**:\n",
        "     - Collects the second element from each row: `[2, 5, 8]`.\n",
        "     - Appends `[2, 5, 8]` to `transposed_matrix`.\n",
        "  3. **Third Iteration (`i = 2`)**:\n",
        "     - Collects the third element from each row: `[3, 6, 9]`.\n",
        "     - Appends `[3, 6, 9]` to `transposed_matrix`.\n",
        "\n",
        "- **Final Result**:\n",
        "  - The transposed matrix is:\n",
        "    ```python\n",
        "    [\n",
        "        [1, 4, 7],\n",
        "        [2, 5, 8],\n",
        "        [3, 6, 9]\n",
        "    ]\n",
        "    ```\n",
        "\n",
        "\n",
        "**Explanation of the List Comprehension:**\n",
        "\n",
        "- **Outer List Comprehension**:\n",
        "  - `for i in range(len(matrix[0]))`:\n",
        "    - Iterates over the range of the number of columns in the original matrix.\n",
        "    - `len(matrix[0])` gives the number of columns (since `matrix[0]` is the first row).\n",
        "\n",
        "- **Inner List Comprehension**:\n",
        "  - `[row[i] for row in matrix]`:\n",
        "    - For each column index `i`, iterates over each row in the matrix.\n",
        "    - Collects the `i`-th element from each row to form a new row for the transposed matrix.\n",
        "\n",
        "- **Combining Both**:\n",
        "  - The outer loop iterates over each column index `i`.\n",
        "  - The inner loop constructs a new row by taking the `i`-th element from each row of the original matrix.\n",
        "\n",
        "- **Step-by-Step Execution**:\n",
        "  1. **Outer Loop**:\n",
        "     - `i` takes values `0`, `1`, and `2` (assuming the matrix has 3 columns).\n",
        "  2. **Inner Loop**:\n",
        "     - For `i = 0`: Collects `[1, 4, 7]` (first element from each row).\n",
        "     - For `i = 1`: Collects `[2, 5, 8]` (second element from each row).\n",
        "     - For `i = 2`: Collects `[3, 6, 9]` (third element from each row).\n",
        "  3. **Result**:\n",
        "     - The outer list comprehension combines these lists into the transposed matrix:\n",
        "       ```python\n",
        "       [[1, 4, 7], [2, 5, 8], [3, 6, 9]]\n",
        "       ```\n",
        "\n",
        "- **Equivalent Nested Loops**:\n",
        "  - The nested list comprehension is equivalent to:\n",
        "    ```python\n",
        "    transposed_matrix = []\n",
        "    for i in range(len(matrix[0])):  # iterate over columns\n",
        "        transposed_row = []\n",
        "        for row in matrix:\n",
        "            transposed_row.append(row[i])  # collect i-th element from each row\n",
        "        transposed_matrix.append(transposed_row)  # add new row to transposed matrix\n",
        "    ```\n",
        "\n",
        "- **Summary**:\n",
        "  - The nested list comprehension is a compact way to transpose a matrix.\n",
        "  - It swaps rows and columns by iterating over columns and collecting elements from each row.\n",
        "  - The result is a transposed matrix where rows and columns are swapped."
      ]
    },
    {
      "cell_type": "code",
      "execution_count": 28,
      "metadata": {
        "colab": {
          "base_uri": "https://localhost:8080/"
        },
        "id": "txoieD07i0zo",
        "outputId": "b8caf61a-b65f-4cc5-b7a5-9d5c44245b3a"
      },
      "outputs": [
        {
          "output_type": "stream",
          "name": "stdout",
          "text": [
            "[1, 2, 3]\n",
            "2\n"
          ]
        }
      ],
      "source": [
        "print(matrix[0])\n",
        "print(matrix[0][1])\n"
      ]
    },
    {
      "cell_type": "markdown",
      "metadata": {
        "id": "suzWfvMi4Xwi"
      },
      "source": [
        "### Tuples\n",
        "\n",
        "Tuples are similar to lists, but they are immutable, which means you cannot change their content once defined. Tuples are created using parentheses `()`.\n",
        "\n",
        "\n"
      ]
    },
    {
      "cell_type": "code",
      "execution_count": 29,
      "metadata": {
        "colab": {
          "base_uri": "https://localhost:8080/"
        },
        "id": "WazhWbyq4fhN",
        "outputId": "54c1e02c-972f-4479-96fd-01ea8afae9a0"
      },
      "outputs": [
        {
          "output_type": "stream",
          "name": "stdout",
          "text": [
            "(10, 20, 30)\n"
          ]
        }
      ],
      "source": [
        "dimensions = (10, 20, 30)\n",
        "\n",
        "print(dimensions)"
      ]
    },
    {
      "cell_type": "code",
      "execution_count": 30,
      "metadata": {
        "colab": {
          "base_uri": "https://localhost:8080/"
        },
        "id": "KArA0vGo4ksL",
        "outputId": "b5d75216-26ad-40c3-a1f2-53bd75b0c04f"
      },
      "outputs": [
        {
          "output_type": "stream",
          "name": "stdout",
          "text": [
            "'tuple' object has no attribute 'append'\n"
          ]
        }
      ],
      "source": [
        "# The try except below so we can run all cells in the notebook without issues\n",
        "try:\n",
        "  dimensions.append(5)\n",
        "except Exception as e:\n",
        "  print(e)"
      ]
    },
    {
      "cell_type": "code",
      "execution_count": 31,
      "metadata": {
        "colab": {
          "base_uri": "https://localhost:8080/"
        },
        "id": "eEGm13CN4qO6",
        "outputId": "f25bdeac-9027-415b-fd7f-910328211b65"
      },
      "outputs": [
        {
          "output_type": "stream",
          "name": "stdout",
          "text": [
            "'tuple' object does not support item assignment\n"
          ]
        }
      ],
      "source": [
        "try:\n",
        "  dimensions[1] = 0\n",
        "except Exception as e:\n",
        "  print(e)"
      ]
    },
    {
      "cell_type": "code",
      "execution_count": 32,
      "metadata": {
        "colab": {
          "base_uri": "https://localhost:8080/"
        },
        "id": "BO9HBEwk4yWe",
        "outputId": "e34b78b8-5906-45e7-a403-84f43da48cb6"
      },
      "outputs": [
        {
          "output_type": "stream",
          "name": "stdout",
          "text": [
            "10\n"
          ]
        }
      ],
      "source": [
        "# Elements can be accessed in the same way as lists (including slicing)\n",
        "length = dimensions[0]  # Accesses the first item (index 0)\n",
        "print(length)"
      ]
    },
    {
      "cell_type": "code",
      "execution_count": 33,
      "metadata": {
        "colab": {
          "base_uri": "https://localhost:8080/"
        },
        "id": "40qboBrE5Awl",
        "outputId": "d4947220-a497-40b7-c69f-be62ffef3a47"
      },
      "outputs": [
        {
          "output_type": "stream",
          "name": "stdout",
          "text": [
            "a= 20\n",
            "b= 30\n"
          ]
        }
      ],
      "source": [
        "a, b = dimensions[1:3] # useful for functions returning multiple values\n",
        "print(\"a=\", a)\n",
        "print(\"b=\", b)"
      ]
    },
    {
      "cell_type": "markdown",
      "metadata": {
        "id": "vJR1tVKx5SV9"
      },
      "source": [
        "### Dictionaries\n",
        "\n",
        "Python dictionaries are another versatile data structure that allows you to store and organize data in a flexible and efficient manner. Unlike lists, which use sequential indices to access elements, dictionaries use key-value pairs, offering a more associative and unordered way to store data.\n",
        "\n",
        "- **Key-Value Pairs**: A dictionary is a collection of key-value pairs.\n",
        "    - Each key is unique within a dictionary, and it is used to access its associated value.\n",
        "    - Keys are typically strings or numbers, while values can be of any data type, including other dictionaries.\n",
        "    - Keys must be unique, but values can be duplicated."
      ]
    },
    {
      "cell_type": "markdown",
      "metadata": {
        "id": "GrODkHbli0zo"
      },
      "source": [
        "Benefits of using dictionaries:\n",
        "- **Fast Lookup**: Dictionaries provide O(1) average time complexity for lookups, insertions, and deletions.\n",
        "- **Flexible Key Types**: Keys can be of various immutable types (e.g., strings, numbers, tuples), allowing for versatile data organization.\n",
        "- **Efficient Data Retrieval**: Values can be quickly accessed using their corresponding keys, making data retrieval straightforward.\n",
        "- **Dynamic Size**: Dictionaries can grow or shrink dynamically as needed, without requiring manual resizing.\n",
        "- **Unique Keys**: Keys in a dictionary are unique, ensuring no duplicate entries for the same key.\n",
        "- **Easy Data Manipulation**: Adding, updating, or removing key-value pairs is simple and efficient.\n",
        "- **Useful for Mapping**: Ideal for scenarios where you need to map one set of data to another (e.g., word counts, configurations)."
      ]
    },
    {
      "cell_type": "code",
      "execution_count": 34,
      "metadata": {
        "colab": {
          "base_uri": "https://localhost:8080/"
        },
        "id": "S3HBI3lt568M",
        "outputId": "fdfa446d-28f9-44dc-9487-a6df8c7a7418"
      },
      "outputs": [
        {
          "output_type": "stream",
          "name": "stdout",
          "text": [
            "{'name': 'Alice', 'age': 20, 'courses': ['Math', 'History', 'Physics']}\n"
          ]
        }
      ],
      "source": [
        "# Creating a Dictionary, which is a data structure that stores data as a collection of key-value pairs\n",
        "student = {\n",
        "    \"name\": \"Alice\",\n",
        "    \"age\": 20,\n",
        "    \"courses\": [\"Math\", \"History\", \"Physics\"]\n",
        "}\n",
        "\n",
        "print(student)"
      ]
    },
    {
      "cell_type": "code",
      "execution_count": 35,
      "metadata": {
        "colab": {
          "base_uri": "https://localhost:8080/"
        },
        "id": "Qt0rwOWJi0zp",
        "outputId": "f34fd912-ce97-4e90-9a8d-9f3231379220"
      },
      "outputs": [
        {
          "output_type": "stream",
          "name": "stdout",
          "text": [
            "dict_keys(['name', 'age', 'courses'])\n",
            "dict_values(['Alice', 20, ['Math', 'History', 'Physics']])\n"
          ]
        }
      ],
      "source": [
        "# Accessing Keys\n",
        "keys = student.keys()\n",
        "print(keys)\n",
        "\n",
        "# Accessing Values\n",
        "values = student.values()\n",
        "print(values)\n"
      ]
    },
    {
      "cell_type": "code",
      "execution_count": 36,
      "metadata": {
        "colab": {
          "base_uri": "https://localhost:8080/"
        },
        "id": "R0gnjU-46Mgl",
        "outputId": "390a6edb-9a22-4a62-fa8d-4a923078f7d2"
      },
      "outputs": [
        {
          "output_type": "stream",
          "name": "stdout",
          "text": [
            "Alice\n"
          ]
        }
      ],
      "source": [
        "# Accessing Values\n",
        "student_name = student[\"name\"]\n",
        "\n",
        "print(student_name)"
      ]
    },
    {
      "cell_type": "code",
      "execution_count": 37,
      "metadata": {
        "colab": {
          "base_uri": "https://localhost:8080/"
        },
        "id": "hwWyYBG56YnM",
        "outputId": "ba64e128-258d-49b6-f133-6e6113a76ae1"
      },
      "outputs": [
        {
          "output_type": "stream",
          "name": "stdout",
          "text": [
            "{'name': 'Alice', 'age': 31, 'courses': ['Math', 'History', 'Physics']}\n"
          ]
        }
      ],
      "source": [
        "# Modifying Values\n",
        "student[\"age\"] = 31\n",
        "\n",
        "print(student)"
      ]
    },
    {
      "cell_type": "code",
      "execution_count": 38,
      "metadata": {
        "colab": {
          "base_uri": "https://localhost:8080/"
        },
        "id": "tqn1QiCZ6n-K",
        "outputId": "e7bb39fb-52a8-4d94-9529-0ee03e2df8ca"
      },
      "outputs": [
        {
          "output_type": "stream",
          "name": "stdout",
          "text": [
            "{'name': 'Alice', 'age': 31, 'courses': ['Math', 'History', 'Physics'], 'grade': 'A'}\n"
          ]
        }
      ],
      "source": [
        "# Adding new key-value pair\n",
        "student[\"grade\"] = \"A\" # This is as if you're 'indexing' into the dictionary, assigning a value to a key\n",
        "\n",
        "print(student)"
      ]
    },
    {
      "cell_type": "code",
      "execution_count": 39,
      "metadata": {
        "colab": {
          "base_uri": "https://localhost:8080/"
        },
        "id": "ot5itZga6y50",
        "outputId": "3ed9182a-3ecf-4031-f980-ab5ebd5952cb"
      },
      "outputs": [
        {
          "output_type": "stream",
          "name": "stdout",
          "text": [
            "key exist\n"
          ]
        }
      ],
      "source": [
        "# Checking for key existence\n",
        "if \"age\" in student:\n",
        "    print(\"key exist\")\n"
      ]
    },
    {
      "cell_type": "code",
      "execution_count": 40,
      "metadata": {
        "colab": {
          "base_uri": "https://localhost:8080/"
        },
        "id": "U3lS7FKN7Cs1",
        "outputId": "82d350c7-20ed-414d-c7fa-dc3c4e710c38"
      },
      "outputs": [
        {
          "output_type": "stream",
          "name": "stdout",
          "text": [
            "name : Alice\n",
            "age : 31\n",
            "courses : ['Math', 'History', 'Physics']\n",
            "grade : A\n"
          ]
        }
      ],
      "source": [
        "# Iterating over a dictionary\n",
        "for key in student:\n",
        "    print(key, \":\", student[key])\n"
      ]
    },
    {
      "cell_type": "markdown",
      "metadata": {
        "id": "llrUtZG37P98"
      },
      "source": [
        "**Dictionary Methods**: Python provides various methods for dictionaries, such as `keys()`, `values()`, and `items()`, which allow you to work with keys, values, and key-value pairs, respectively."
      ]
    },
    {
      "cell_type": "code",
      "execution_count": 41,
      "metadata": {
        "colab": {
          "base_uri": "https://localhost:8080/"
        },
        "id": "fjmxwoNm7PSN",
        "outputId": "1591d765-836b-47e7-c9c7-43f0b1e0d31b"
      },
      "outputs": [
        {
          "output_type": "stream",
          "name": "stdout",
          "text": [
            "dict_keys(['name', 'age', 'courses', 'grade'])\n"
          ]
        }
      ],
      "source": [
        "keys = student.keys()\n",
        "print(keys)"
      ]
    },
    {
      "cell_type": "code",
      "execution_count": 42,
      "metadata": {
        "colab": {
          "base_uri": "https://localhost:8080/"
        },
        "id": "c0izLgzx7Y12",
        "outputId": "efb39106-4788-424d-ff89-20fbba616f9e"
      },
      "outputs": [
        {
          "output_type": "stream",
          "name": "stdout",
          "text": [
            "dict_values(['Alice', 31, ['Math', 'History', 'Physics'], 'A'])\n"
          ]
        }
      ],
      "source": [
        "values = student.values()\n",
        "print(values)"
      ]
    },
    {
      "cell_type": "code",
      "execution_count": 43,
      "metadata": {
        "colab": {
          "base_uri": "https://localhost:8080/"
        },
        "id": "qELb5ieV7Y4X",
        "outputId": "9d888fe0-74af-46fd-e5b1-9058b2d2a30b"
      },
      "outputs": [
        {
          "output_type": "stream",
          "name": "stdout",
          "text": [
            "dict_items([('name', 'Alice'), ('age', 31), ('courses', ['Math', 'History', 'Physics']), ('grade', 'A')])\n"
          ]
        }
      ],
      "source": [
        "key_value_pairs = student.items()\n",
        "print(key_value_pairs)"
      ]
    },
    {
      "cell_type": "markdown",
      "metadata": {
        "id": "jBGfcXAk7olW"
      },
      "source": [
        "## Operators\n",
        "\n",
        "The basic arithmetic operators are\n",
        "\n",
        "Operator | Meaning |\n",
        "---------|---------|\n",
        "+ | addition\n",
        "- | subtraction\n",
        "* | multiplication\n",
        "\\ | division\n",
        "\\\\\\ | int division\n",
        "% | modulo\n",
        "** | power"
      ]
    },
    {
      "cell_type": "code",
      "execution_count": 44,
      "metadata": {
        "colab": {
          "base_uri": "https://localhost:8080/"
        },
        "id": "SA8itM20703w",
        "outputId": "5d873f07-2612-49ce-90de-7724ed89c298"
      },
      "outputs": [
        {
          "output_type": "execute_result",
          "data": {
            "text/plain": [
              "8"
            ]
          },
          "metadata": {},
          "execution_count": 44
        }
      ],
      "source": [
        "2 ** 3 # int"
      ]
    },
    {
      "cell_type": "code",
      "execution_count": 45,
      "metadata": {
        "colab": {
          "base_uri": "https://localhost:8080/"
        },
        "id": "R2KVkRad76FG",
        "outputId": "f355d0a2-c575-4604-c575-687e9437f058"
      },
      "outputs": [
        {
          "output_type": "execute_result",
          "data": {
            "text/plain": [
              "8.0"
            ]
          },
          "metadata": {},
          "execution_count": 45
        }
      ],
      "source": [
        "2. ** 3 # float"
      ]
    },
    {
      "cell_type": "code",
      "execution_count": 46,
      "metadata": {
        "colab": {
          "base_uri": "https://localhost:8080/"
        },
        "id": "CBZAvkjHi0zp",
        "outputId": "642b29a1-95a6-4b26-8f58-6c4ed93ac5d6"
      },
      "outputs": [
        {
          "output_type": "execute_result",
          "data": {
            "text/plain": [
              "2"
            ]
          },
          "metadata": {},
          "execution_count": 46
        }
      ],
      "source": [
        "5//2"
      ]
    },
    {
      "cell_type": "code",
      "execution_count": 47,
      "metadata": {
        "colab": {
          "base_uri": "https://localhost:8080/"
        },
        "id": "D6St0iEki0zp",
        "outputId": "504f01b5-713f-463d-871e-c98ab7809192"
      },
      "outputs": [
        {
          "output_type": "execute_result",
          "data": {
            "text/plain": [
              "2.5"
            ]
          },
          "metadata": {},
          "execution_count": 47
        }
      ],
      "source": [
        "5/2"
      ]
    },
    {
      "cell_type": "markdown",
      "metadata": {
        "id": "wtIUhMEJ796I"
      },
      "source": [
        "Some operators work with `strings` and `lists`\n"
      ]
    },
    {
      "cell_type": "code",
      "execution_count": 48,
      "metadata": {
        "colab": {
          "base_uri": "https://localhost:8080/",
          "height": 35
        },
        "id": "6W_w4jLa8CxD",
        "outputId": "4b021ffe-8af0-49aa-b887-7ccf5c224659"
      },
      "outputs": [
        {
          "output_type": "execute_result",
          "data": {
            "text/plain": [
              "'hello hello hello '"
            ],
            "application/vnd.google.colaboratory.intrinsic+json": {
              "type": "string"
            }
          },
          "metadata": {},
          "execution_count": 48
        }
      ],
      "source": [
        "'hello ' * 3"
      ]
    },
    {
      "cell_type": "code",
      "execution_count": 49,
      "metadata": {
        "colab": {
          "base_uri": "https://localhost:8080/",
          "height": 35
        },
        "id": "wLSwihqs8GBB",
        "outputId": "3a0bfeb9-dbcd-4ba3-ed9c-4ea1a0385419"
      },
      "outputs": [
        {
          "output_type": "execute_result",
          "data": {
            "text/plain": [
              "'hello world!'"
            ],
            "application/vnd.google.colaboratory.intrinsic+json": {
              "type": "string"
            }
          },
          "metadata": {},
          "execution_count": 49
        }
      ],
      "source": [
        "'hello' + ' ' + 'world!'"
      ]
    },
    {
      "cell_type": "code",
      "execution_count": 50,
      "metadata": {
        "colab": {
          "base_uri": "https://localhost:8080/"
        },
        "id": "QS1YZI9Pi0zp",
        "outputId": "e41ef845-61eb-44b3-e126-3e52f26160cb"
      },
      "outputs": [
        {
          "output_type": "execute_result",
          "data": {
            "text/plain": [
              "[1, 2]"
            ]
          },
          "metadata": {},
          "execution_count": 50
        }
      ],
      "source": [
        "[1] + [2]"
      ]
    },
    {
      "cell_type": "code",
      "execution_count": 51,
      "metadata": {
        "colab": {
          "base_uri": "https://localhost:8080/"
        },
        "id": "fHm4GaMH8Ih0",
        "outputId": "35490796-6d8a-444a-fae6-263201bf36c0"
      },
      "outputs": [
        {
          "output_type": "execute_result",
          "data": {
            "text/plain": [
              "[1, 2, 3, 1, 2, 3, 1, 2, 3]"
            ]
          },
          "metadata": {},
          "execution_count": 51
        }
      ],
      "source": [
        "[1, 2 ,3] * 3"
      ]
    },
    {
      "cell_type": "code",
      "execution_count": 52,
      "metadata": {
        "colab": {
          "base_uri": "https://localhost:8080/"
        },
        "id": "_fCCfhb68KPi",
        "outputId": "94d3407f-da05-47d8-8117-da739a03bf86"
      },
      "outputs": [
        {
          "output_type": "execute_result",
          "data": {
            "text/plain": [
              "[1, 2, 3, 30, 40, 50]"
            ]
          },
          "metadata": {},
          "execution_count": 52
        }
      ],
      "source": [
        "[1, 2, 3] + [30, 40, 50]"
      ]
    },
    {
      "cell_type": "markdown",
      "metadata": {
        "id": "t-GruHZ08uQv"
      },
      "source": [
        "## Strings\n",
        "\n",
        "Here's a quick overview of strings in Python:"
      ]
    },
    {
      "cell_type": "code",
      "execution_count": 53,
      "metadata": {
        "id": "J03g9t3H88cP"
      },
      "outputs": [],
      "source": [
        "# Creating strings\n",
        "single_quoted = 'This is a string.'\n",
        "double_quoted = \"This is another string.\"\n",
        "triple_quoted = '''This is a multi-line\n",
        "string.'''\n"
      ]
    },
    {
      "cell_type": "code",
      "execution_count": 54,
      "metadata": {
        "colab": {
          "base_uri": "https://localhost:8080/"
        },
        "id": "qe9KlD92i0zq",
        "outputId": "05a1f415-05e9-4542-95a3-bbf46cf9a226"
      },
      "outputs": [
        {
          "output_type": "stream",
          "name": "stdout",
          "text": [
            "This is a string with \"double quotes\".\n",
            "This is a string with 'single quotes'.\n",
            "This is a string with 'single quotes'.\n",
            "This is a string with \"double quotes\".\n"
          ]
        }
      ],
      "source": [
        "# Double quotes inside single-quoted string\n",
        "string_with_double_quotes = 'This is a string with \"double quotes\".'\n",
        "\n",
        "# Single quotes inside double-quoted string\n",
        "string_with_single_quotes = \"This is a string with 'single quotes'.\"# Escaping single quotes inside single-quoted string\n",
        "escaped_single_quotes = 'This is a string with \\'single quotes\\'.'\n",
        "\n",
        "# Escaping double quotes inside double-quoted string\n",
        "escaped_double_quotes = \"This is a string with \\\"double quotes\\\".\"\n",
        "\n",
        "print(string_with_double_quotes)\n",
        "print(string_with_single_quotes)\n",
        "print(escaped_single_quotes)\n",
        "print(escaped_double_quotes)"
      ]
    },
    {
      "cell_type": "code",
      "execution_count": 55,
      "metadata": {
        "colab": {
          "base_uri": "https://localhost:8080/"
        },
        "id": "nb22rBwg9EO5",
        "outputId": "cef18c7d-e630-4c50-8da2-dd7bd3d69b3a"
      },
      "outputs": [
        {
          "output_type": "stream",
          "name": "stdout",
          "text": [
            "P\n"
          ]
        }
      ],
      "source": [
        "# String indexing\n",
        "text = \"Python\"\n",
        "print(text[0])\n"
      ]
    },
    {
      "cell_type": "code",
      "execution_count": 56,
      "metadata": {
        "colab": {
          "base_uri": "https://localhost:8080/"
        },
        "id": "VVS-_rGr9KVu",
        "outputId": "bd353b05-25a3-48bd-b286-5c8a338528a4"
      },
      "outputs": [
        {
          "output_type": "stream",
          "name": "stdout",
          "text": [
            "Pyt\n"
          ]
        }
      ],
      "source": [
        "# String slicing\n",
        "text = \"Python\"\n",
        "print(text[0:3])\n"
      ]
    },
    {
      "cell_type": "code",
      "execution_count": 57,
      "metadata": {
        "colab": {
          "base_uri": "https://localhost:8080/"
        },
        "id": "w4MhNX169Smk",
        "outputId": "a838333b-9079-4d9b-c94e-a6978ef6e991"
      },
      "outputs": [
        {
          "output_type": "stream",
          "name": "stdout",
          "text": [
            "John Doe\n"
          ]
        }
      ],
      "source": [
        "# Concatenation\n",
        "first_name = \"John\"\n",
        "last_name = \"Doe\"\n",
        "full_name = first_name + \" \" + last_name\n",
        "\n",
        "print(full_name)\n"
      ]
    },
    {
      "cell_type": "markdown",
      "metadata": {
        "id": "zV7CGXEr9sqi"
      },
      "source": [
        "**String methods**\n",
        "\n",
        "Python provides many of built-in methods for string manipulation. Some common methods include `upper()`, `lower()`, `title()`, `strip()`, `split()`, `replace()`, `find()`, and `count()`."
      ]
    },
    {
      "cell_type": "code",
      "execution_count": 58,
      "metadata": {
        "colab": {
          "base_uri": "https://localhost:8080/"
        },
        "id": "xRQ8EfhS92hg",
        "outputId": "acbce8b4-e7f2-4ed2-e945-b621684793a1"
      },
      "outputs": [
        {
          "output_type": "stream",
          "name": "stdout",
          "text": [
            "THIS IS A TEST STRING\n"
          ]
        }
      ],
      "source": [
        "text = \"this is a test string\"\n",
        "print(text.upper())"
      ]
    },
    {
      "cell_type": "code",
      "execution_count": 59,
      "metadata": {
        "colab": {
          "base_uri": "https://localhost:8080/"
        },
        "id": "gbPSeHtk-ioF",
        "outputId": "60d38e75-46a6-4534-f4ea-01f8aaf6d503"
      },
      "outputs": [
        {
          "output_type": "stream",
          "name": "stdout",
          "text": [
            "This Is A Test String\n"
          ]
        }
      ],
      "source": [
        "print(text.title())"
      ]
    },
    {
      "cell_type": "code",
      "execution_count": 60,
      "metadata": {
        "colab": {
          "base_uri": "https://localhost:8080/"
        },
        "id": "Qqdg6fOc-AcF",
        "outputId": "8ae3979c-f586-43c2-afff-07d3a95f0e16"
      },
      "outputs": [
        {
          "output_type": "stream",
          "name": "stdout",
          "text": [
            "['this', 'is', 'a', 'test', 'string']\n"
          ]
        }
      ],
      "source": [
        "words = text.split(' ')\n",
        "print(words)    # returns a list!"
      ]
    },
    {
      "cell_type": "code",
      "execution_count": 61,
      "metadata": {
        "colab": {
          "base_uri": "https://localhost:8080/"
        },
        "id": "hJiDP0st-uip",
        "outputId": "cf5eab5a-4bc4-4240-9ac7-4e040ea0c496"
      },
      "outputs": [
        {
          "output_type": "stream",
          "name": "stdout",
          "text": [
            "this_is_a_test_string\n"
          ]
        }
      ],
      "source": [
        "new_text = \"_\".join(text.split(\" \"))    # \"whatever I want to join.\".join(list)\n",
        "print(new_text)"
      ]
    },
    {
      "cell_type": "markdown",
      "metadata": {
        "id": "rH0iXvTQ_ERf"
      },
      "source": [
        "**String Formatting**\n",
        "\n",
        "Python offers various ways to format strings, such as using f-strings (formatted string literals), the `%` operator, or the `str.format()` method."
      ]
    },
    {
      "cell_type": "code",
      "execution_count": 62,
      "metadata": {
        "id": "ghQYTBTz_PVy"
      },
      "outputs": [],
      "source": [
        "name = \"Alice\"\n",
        "age = 30"
      ]
    },
    {
      "cell_type": "markdown",
      "metadata": {
        "id": "d1HJznZPAUJC"
      },
      "source": [
        "**F-Strings (formatted string literals) - Python 3.6 and newer:**\n",
        "\n",
        "\n",
        "F-strings are the recommended way to format strings in modern Python. You can embed expressions inside curly braces {} within a string, and these expressions will be evaluated and replaced with their values when the string is created."
      ]
    },
    {
      "cell_type": "code",
      "execution_count": 63,
      "metadata": {
        "colab": {
          "base_uri": "https://localhost:8080/"
        },
        "id": "WDahurlD_YuT",
        "outputId": "aeeefef0-a597-48d7-a156-5a55e0cb0581"
      },
      "outputs": [
        {
          "output_type": "stream",
          "name": "stdout",
          "text": [
            "My name is Alice and I am 30 years old.\n"
          ]
        }
      ],
      "source": [
        "formatted_string = f\"My name is {name} and I am {age} years old.\"   # This is the most recommended way to format strings in modern Python.\n",
        "print(formatted_string)"
      ]
    },
    {
      "cell_type": "code",
      "execution_count": 64,
      "metadata": {
        "colab": {
          "base_uri": "https://localhost:8080/"
        },
        "id": "neZlLBEXi0zq",
        "outputId": "a9e3dafa-d6a7-46ae-d5a2-2c15583de40e"
      },
      "outputs": [
        {
          "output_type": "stream",
          "name": "stdout",
          "text": [
            "My name is        Alice         and I am 30.12                                                                                               \n"
          ]
        }
      ],
      "source": [
        "name = \"Alice\"\n",
        "age = 30.12345\n",
        "formatted_string = f\"My name is {name:^20s} and I am {age:<100.2f}\" # 20s means 20 characters, 2f means 2 decimal places\n",
        "print(formatted_string)"
      ]
    },
    {
      "cell_type": "markdown",
      "metadata": {
        "id": "XYCeeESAAivJ"
      },
      "source": [
        "**str.format() method - Python 2.7 and 3.x:**\n",
        "\n",
        "The str.format() method allows you to create formatted strings by specifying placeholders within a string and then providing values to replace these placeholders using the .format() method."
      ]
    },
    {
      "cell_type": "code",
      "execution_count": 65,
      "metadata": {
        "colab": {
          "base_uri": "https://localhost:8080/"
        },
        "id": "pFIregFz_Ywh",
        "outputId": "d63f0655-6b85-4108-a789-e9e00b0d2fc2"
      },
      "outputs": [
        {
          "output_type": "stream",
          "name": "stdout",
          "text": [
            "My name is Alice and I am 30.12345 years old.\n"
          ]
        }
      ],
      "source": [
        "formatted_string = \"My name is {} and I am {} years old.\".format(name, age)\n",
        "print(formatted_string)"
      ]
    },
    {
      "cell_type": "markdown",
      "metadata": {
        "id": "KfA1wA-DAqKc"
      },
      "source": [
        "**%-formatting - Older Python 2.x:**\n",
        "\n",
        "This method uses the % operator to format strings. It's considered less readable and less flexible than the other two methods and is not recommended for new code."
      ]
    },
    {
      "cell_type": "code",
      "execution_count": 66,
      "metadata": {
        "colab": {
          "base_uri": "https://localhost:8080/"
        },
        "id": "-N3wXKmR_YzP",
        "outputId": "170784e4-c7ed-40c3-e9af-b825b2055a8a"
      },
      "outputs": [
        {
          "output_type": "stream",
          "name": "stdout",
          "text": [
            "My name is Alice and I am 30 years old.\n"
          ]
        }
      ],
      "source": [
        "formatted_string = \"My name is %s and I am %d years old.\" %(name, age)\n",
        "print(formatted_string)"
      ]
    },
    {
      "cell_type": "markdown",
      "metadata": {
        "id": "xAk5E7l5ATVI"
      },
      "source": [
        "## Functions\n",
        "\n",
        "Functions are blocks of reusable code that can be defined and called to perform specific tasks."
      ]
    },
    {
      "cell_type": "code",
      "execution_count": 67,
      "metadata": {
        "colab": {
          "base_uri": "https://localhost:8080/"
        },
        "id": "lEWxxezuAgwO",
        "outputId": "9fcd6ff0-a56f-4eac-d156-877cbd5833a1"
      },
      "outputs": [
        {
          "output_type": "stream",
          "name": "stdout",
          "text": [
            "6\n",
            "[5, 5]\n"
          ]
        }
      ],
      "source": [
        "# Defining and calling functions\n",
        "\n",
        "# Define a simple function\n",
        "def double(x):\n",
        "  return x * 2\n",
        "\n",
        "\n",
        "# Call the function\n",
        "result = double(3)\n",
        "print(result)\n",
        "\n",
        "result2 = double([5])\n",
        "print(result2)\n"
      ]
    },
    {
      "cell_type": "code",
      "execution_count": 68,
      "metadata": {
        "colab": {
          "base_uri": "https://localhost:8080/"
        },
        "id": "JK16M4LcBcHI",
        "outputId": "110fc461-1ace-4116-d42c-517e4c06bc05"
      },
      "outputs": [
        {
          "output_type": "execute_result",
          "data": {
            "text/plain": [
              "[1, 2, 3, 1, 2, 3]"
            ]
          },
          "metadata": {},
          "execution_count": 68
        }
      ],
      "source": [
        "# the parameter's data type is not specific\n",
        "double([1, 2, 3])"
      ]
    },
    {
      "cell_type": "markdown",
      "metadata": {
        "id": "rtkLF41OA8Wh"
      },
      "source": [
        "Functions in Python can accept multiple arguments. These arguments can have default values, making them optional when calling the function."
      ]
    },
    {
      "cell_type": "code",
      "execution_count": 69,
      "metadata": {
        "id": "vQOyle_BA_y4"
      },
      "outputs": [],
      "source": [
        "def add_numbers(x, y=0):\n",
        "    return x + y"
      ]
    },
    {
      "cell_type": "code",
      "execution_count": 70,
      "metadata": {
        "colab": {
          "base_uri": "https://localhost:8080/"
        },
        "id": "r1_D8c2dBDX0",
        "outputId": "009c882f-41ef-4568-c6bf-8640fe5bbc49"
      },
      "outputs": [
        {
          "output_type": "stream",
          "name": "stdout",
          "text": [
            "8\n"
          ]
        }
      ],
      "source": [
        "result = add_numbers(5, 3)\n",
        "print(result)"
      ]
    },
    {
      "cell_type": "code",
      "execution_count": 71,
      "metadata": {
        "colab": {
          "base_uri": "https://localhost:8080/"
        },
        "id": "o3QdSzvcBIXh",
        "outputId": "90bd71c8-c1d6-4679-dea9-4262e82de2fe"
      },
      "outputs": [
        {
          "output_type": "stream",
          "name": "stdout",
          "text": [
            "5\n"
          ]
        }
      ],
      "source": [
        "result = add_numbers(5)\n",
        "print(result)"
      ]
    },
    {
      "cell_type": "markdown",
      "metadata": {
        "id": "gnKvojE7BL_i"
      },
      "source": [
        "Functions can return multiple values\n"
      ]
    },
    {
      "cell_type": "code",
      "execution_count": 72,
      "metadata": {
        "id": "2Zf3x4DEBth8",
        "colab": {
          "base_uri": "https://localhost:8080/"
        },
        "outputId": "8ded3b96-a04f-4c25-a343-0e0fca62f388"
      },
      "outputs": [
        {
          "output_type": "stream",
          "name": "stdout",
          "text": [
            "(6, 9)\n"
          ]
        }
      ],
      "source": [
        "# return 2 objects\n",
        "\n",
        "def double_triple(x):\n",
        "  return (x * 2, x * 3) # return a tuple\n",
        "\n",
        "print(double_triple(3))"
      ]
    },
    {
      "cell_type": "code",
      "execution_count": 73,
      "metadata": {
        "colab": {
          "base_uri": "https://localhost:8080/"
        },
        "id": "jXeRNb4sBvnW",
        "outputId": "45e9a4ab-cfcd-48d7-e8b8-b367b5970ac8"
      },
      "outputs": [
        {
          "output_type": "stream",
          "name": "stdout",
          "text": [
            "6\n",
            "9\n"
          ]
        }
      ],
      "source": [
        "a, b = double_triple(3) # unpack the tuple into 2 variables, matching the first 2 elements with the first 2 variables\n",
        "print(a)\n",
        "print(b)"
      ]
    },
    {
      "cell_type": "code",
      "execution_count": 74,
      "metadata": {
        "colab": {
          "base_uri": "https://localhost:8080/"
        },
        "id": "kSzS0HGGi0zr",
        "outputId": "8d372aab-0b90-48f4-e72f-a510f706fcb0"
      },
      "outputs": [
        {
          "output_type": "stream",
          "name": "stdout",
          "text": [
            "7\n",
            "3\n",
            "15\n"
          ]
        }
      ],
      "source": [
        "def add(x, y = 0):\n",
        "    return x + y\n",
        "\n",
        "print(add(3, 4))\n",
        "print(add(3))   # y is optional since it has a default value\n",
        "\n",
        "print(add(y = 10, x = 5)) # named arguments; this useful b/c sometimes we'll be working with functions with many arguments\n"
      ]
    },
    {
      "cell_type": "markdown",
      "metadata": {
        "id": "q0cYDE6b-2cS"
      },
      "source": [
        "## Object-Oriented Programming (OOP) in Python\n",
        "\n",
        "Object-Oriented Programming (OOP) is a programming paradigm that is based on the concept of objects. It is a way of organizing and structuring your code to make it more modular, reusable, and easier to understand."
      ]
    },
    {
      "cell_type": "markdown",
      "metadata": {
        "id": "QjQAYhoqAlsO"
      },
      "source": [
        "### Classes\n",
        "#### **Classes and Objects**\n",
        "\n",
        "- **Classes**: In Python, a class is a blueprint or template for creating objects. It defines the attributes (variables) and methods (functions) that an object of that class will have. Classes are like a blueprint for creating objects.\n",
        "\n",
        "- **Objects**: An object is an instance of a class. It is a concrete realization of the class blueprint, with its own unique data (attributes) and behavior (methods).\n",
        "\n",
        "#### **Attributes and Methods**\n",
        "\n",
        "- **Attributes**: Attributes are variables that belong to a class and describe the characteristics of objects created from that class. For example, if we have a class called `Car`, attributes could include `color`, `make`, and `model`.\n",
        "\n",
        "- **Methods**: Methods are functions that are defined inside a class and can operate on the attributes of that class. They define the behavior of objects created from the class. For instance, a `Car` class might have methods like `start_engine()` and `stop_engine()`.\n",
        "    - Methods are what differentiate classes from structures or dictionaries. They define the behavior of the objects created from the class.\n",
        "    \n",
        "**Encapsulation**\n",
        "- **Definition**: Encapsulation is the concept of bundling data (attributes) and methods (functions) that operate on the data into a single unit, typically a **class**.\n",
        "- **Purpose**: It hides the internal details of how an object works and protects the data from unauthorized access or modification.\n",
        "- **Key Features**:\n",
        "  - **Data Hiding**: Restricts direct access to some of an object’s components (using `private` or `protected` access modifiers in some languages).\n",
        "  - **Controlled Access**: Provides controlled access to data through methods (e.g., getters and setters).\n",
        "- **Benefits**:\n",
        "  - Improves code maintainability and reusability.\n",
        "  - Prevents unintended interference and misuse of data.\n",
        "  - Makes the code easier to understand and debug.\n",
        "\n",
        "Think of it like a **capsule**: the outside is the interface (what you can interact with), and the inside is hidden (the implementation details). 💊\n",
        "\n",
        "#### **Classes vs Structs (C)**  \n",
        "- **Behavior (Methods)**: Classes in Python can have methods (functions) that define the behavior of objects, whereas structs in C are purely data structures without built-in behavior.  \n",
        "- **Encapsulation**: Classes support encapsulation, allowing data and methods to be bundled together, while structs in C are just collections of data fields with no inherent mechanism for hiding or protecting data.  \n",
        "- **Inheritance**: Classes support inheritance, enabling one class to inherit attributes and methods from another, which is not possible with structs in C.  \n",
        "- **Flexibility**: Python classes are more flexible, allowing dynamic addition of attributes and methods at runtime, while structs in C are static and require explicit definition at compile time.\n",
        "\n",
        "**The `__init__` Method**  \n",
        "- **What is `__init__`?**: The `__init__` method is a special method in Python classes, often referred to as the **constructor**. It is automatically called when a new object (instance) of the class is created.  \n",
        "- **What does it do?**: The `__init__` method is used to initialize the attributes of an object. It allows you to set up the initial state of the object by assigning values to its attributes. For example, in a `Car` class, the `__init__` method might set the `color`, `make`, and `model` attributes when a new `Car` object is created.  \n",
        "- **Why is it needed?**: Without `__init__`, you would need to manually set the attributes of an object after creating it, which can be error-prone and cumbersome. The `__init__` method ensures that every object starts with a valid initial state, making the code cleaner and more reliable.  \n",
        "\n",
        "\n",
        "#### **Example of `__init__` vs without `__init__`**\n",
        "* With `__init__`, you can create an object and set its attributes in one step:\n",
        "    ```python\n",
        "    class Car:\n",
        "        def __init__(self, color, make, model):\n",
        "            self.color = color\n",
        "            self.make = make\n",
        "            self.model = model\n",
        "\n",
        "    # Creating an object of the Car class and setting its attributes in one step\n",
        "    my_car = Car(\"red\", \"Toyota\", \"Corolla\")\n",
        "    ```\n",
        "\n",
        "* Without `__init__`, you would have to create the object and then set its attributes separately:\n",
        "    ```python\n",
        "    class Car:\n",
        "        pass  # No __init__ method defined\n",
        "\n",
        "    # Creating an object of the Car class\n",
        "    my_car = Car()\n",
        "\n",
        "    # Manually setting attributes\n",
        "    my_car.color = \"red\"\n",
        "    my_car.make = \"Toyota\"\n",
        "    my_car.model = \"Corolla\"\n",
        "    ```"
      ]
    },
    {
      "cell_type": "code",
      "execution_count": 75,
      "metadata": {
        "colab": {
          "base_uri": "https://localhost:8080/"
        },
        "id": "gUDobQ76_4lQ",
        "outputId": "02723f7d-5991-4f2e-b6c1-3bedeaf25d5a"
      },
      "outputs": [
        {
          "output_type": "stream",
          "name": "stdout",
          "text": [
            "Alice\n",
            "30\n",
            "Hello, my name is Alice and I am 30 years old.\n"
          ]
        }
      ],
      "source": [
        "# Define a simple class called 'Person'\n",
        "class Person:\n",
        "    def __init__(self, name, age):  # init will be called when we create an object of this class\n",
        "        self.name = name\n",
        "        self.age = age\n",
        "\n",
        "    def greet(self):\n",
        "        print(f\"Hello, my name is {self.name} and I am {self.age} years old.\")\n",
        "\n",
        "# Create an instance of the 'Person' class\n",
        "person1 = Person(\"Alice\", 30)\n",
        "\n",
        "# Accessing attributes and calling methods\n",
        "print(person1.name)\n",
        "print(person1.age)\n",
        "person1.greet()\n"
      ]
    },
    {
      "cell_type": "markdown",
      "metadata": {
        "id": "WzDhI736_25N"
      },
      "source": [
        "### Inheritance\n",
        "\n",
        "Inheritance is a key concept in OOP that allows you to create a new class based on an existing class. The new class inherits the attributes and methods of the existing class, which promotes code reuse and organization.\n"
      ]
    },
    {
      "cell_type": "code",
      "execution_count": 76,
      "metadata": {
        "colab": {
          "base_uri": "https://localhost:8080/"
        },
        "id": "SQG3wlRCBKrT",
        "outputId": "f01640a5-5364-4856-b827-e6768da88828"
      },
      "outputs": [
        {
          "output_type": "stream",
          "name": "stdout",
          "text": [
            "Buddy says Woof!\n",
            "Max says Woof!\n"
          ]
        }
      ],
      "source": [
        "# Define a base class 'Animal'\n",
        "class Animal:\n",
        "    def __init__(self, name):\n",
        "        self.name = name\n",
        "\n",
        "    def speak(self):\n",
        "        return f\"{self.name} makes a sound\"\n",
        "\n",
        "# Define a derived class 'Dog' inheriting from 'Animal'\n",
        "class Dog(Animal):\n",
        "    def speak(self):    # Method overriding\n",
        "        return f\"{self.name} says Woof!\"\n",
        "\n",
        "# Create instances of 'Dog'\n",
        "dog1 = Dog(\"Buddy\")\n",
        "dog2 = Dog(\"Max\")\n",
        "\n",
        "# Call the 'speak' method on 'Dog' instances\n",
        "print(dog1.speak())\n",
        "print(dog2.speak())"
      ]
    },
    {
      "cell_type": "markdown",
      "metadata": {
        "id": "-qlbilywE0i-"
      },
      "source": [
        "## Modules\n",
        "\n",
        "In Python, a module is a file containing Python definitions and statements. It's essentially a code library that you can use in your programs. Modules help you organize your code into separate files, making it more manageable and reusable.\n",
        "\n",
        "Python comes with a rich standard library and a vast ecosystem of third-party libraries. To use these libraries in your code, you need to import them using the `import` statement.\n"
      ]
    },
    {
      "cell_type": "markdown",
      "metadata": {
        "id": "ZPdDxAjIGsBd"
      },
      "source": [
        "### Importing Modules"
      ]
    },
    {
      "cell_type": "markdown",
      "metadata": {
        "id": "mvruoEQvFo8s"
      },
      "source": [
        "**Basic import**"
      ]
    },
    {
      "cell_type": "code",
      "execution_count": 77,
      "metadata": {
        "colab": {
          "base_uri": "https://localhost:8080/"
        },
        "id": "5hZAKTyQFSns",
        "outputId": "11133171-e63e-4104-d3fc-776571380e8a"
      },
      "outputs": [
        {
          "output_type": "stream",
          "name": "stdout",
          "text": [
            "4.0\n"
          ]
        }
      ],
      "source": [
        "# Import the 'math' module to use mathematical functions\n",
        "import math\n",
        "\n",
        "# Calculate the square root using 'math.sqrt'\n",
        "result = math.sqrt(16)\n",
        "print(result)"
      ]
    },
    {
      "cell_type": "markdown",
      "metadata": {
        "id": "_Xf8-FgOFw7O"
      },
      "source": [
        "**Import Specific Functions or Variables**"
      ]
    },
    {
      "cell_type": "code",
      "execution_count": 78,
      "metadata": {
        "colab": {
          "base_uri": "https://localhost:8080/"
        },
        "id": "ew2eqG61Fzcv",
        "outputId": "b853bb42-990a-4e4f-d434-243c6096f635"
      },
      "outputs": [
        {
          "output_type": "stream",
          "name": "stdout",
          "text": [
            "5.0\n"
          ]
        }
      ],
      "source": [
        "# Import only the 'sqrt' function from 'math'\n",
        "from math import sqrt\n",
        "\n",
        "# Use the 'sqrt' function directly\n",
        "result = sqrt(25)\n",
        "print(result)"
      ]
    },
    {
      "cell_type": "markdown",
      "metadata": {
        "id": "mvX5h6XRF5r5"
      },
      "source": [
        "**Renaming Imported Modules**"
      ]
    },
    {
      "cell_type": "code",
      "execution_count": 79,
      "metadata": {
        "colab": {
          "base_uri": "https://localhost:8080/"
        },
        "id": "gG4efrsZGH2I",
        "outputId": "d2405b81-8dd2-4734-ddf0-34b467673117"
      },
      "outputs": [
        {
          "output_type": "stream",
          "name": "stdout",
          "text": [
            "5.0\n"
          ]
        }
      ],
      "source": [
        "# Import the 'math' module and give it an alias 'm'\n",
        "import math as m\n",
        "\n",
        "# Use the 'm' alias to call functions from 'math'\n",
        "result = m.sqrt(25)\n",
        "print(result)\n"
      ]
    },
    {
      "cell_type": "markdown",
      "metadata": {
        "id": "luqizMMwGVvp"
      },
      "source": [
        "**Importing All with `*` (not recommended)**\n",
        "\n",
        "You can use the `from module_name import *` syntax to import all functions and variables from a module. However, this is generally discouraged as it can lead to namespace pollution and make it unclear where certain names come from."
      ]
    },
    {
      "cell_type": "code",
      "execution_count": 80,
      "metadata": {
        "colab": {
          "base_uri": "https://localhost:8080/"
        },
        "id": "XtUzvf-xGVTN",
        "outputId": "cad6a9bc-361c-46be-c89b-0af6bb044447"
      },
      "outputs": [
        {
          "output_type": "stream",
          "name": "stdout",
          "text": [
            "6.0\n"
          ]
        }
      ],
      "source": [
        "# Import all functions and variables from 'math' (not recommended)\n",
        "from math import *\n",
        "\n",
        "# Now you can use all 'math' functions directly\n",
        "result = sqrt(36)\n",
        "print(result)"
      ]
    },
    {
      "cell_type": "markdown",
      "metadata": {
        "id": "In44ANvnGoQe"
      },
      "source": [
        "### Creating and Using Your Own Modules"
      ]
    },
    {
      "cell_type": "code",
      "execution_count": 81,
      "metadata": {
        "colab": {
          "base_uri": "https://localhost:8080/"
        },
        "id": "y7hvhjCZF_EZ",
        "outputId": "4a88447f-29a5-4df3-acf3-a6a59ad9514f"
      },
      "outputs": [
        {
          "output_type": "stream",
          "name": "stdout",
          "text": [
            "Writing my_module.py\n"
          ]
        }
      ],
      "source": [
        "%%writefile my_module.py\n",
        "\n",
        "# my_module.py\n",
        "\n",
        "def greet(name):\n",
        "    return f\"Hello, {name}!\""
      ]
    },
    {
      "cell_type": "code",
      "execution_count": 82,
      "metadata": {
        "colab": {
          "base_uri": "https://localhost:8080/"
        },
        "id": "w2U9KTXlHvzr",
        "outputId": "62bc0889-bf17-4203-d732-54dff6e3f31a"
      },
      "outputs": [
        {
          "output_type": "stream",
          "name": "stdout",
          "text": [
            "Hello, Alice!\n"
          ]
        }
      ],
      "source": [
        "# Import 'greet' function from 'my_module'\n",
        "from my_module import greet\n",
        "\n",
        "# Use the 'greet' function\n",
        "message = greet(\"Alice\")\n",
        "print(message)"
      ]
    },
    {
      "cell_type": "markdown",
      "metadata": {
        "id": "GEiPo8nLAqBT"
      },
      "source": [
        "### Python Standard Library\n",
        "\n",
        "Python's Standard Library contains a wide range of modules that provide functionality for various tasks. The following are a few examples"
      ]
    },
    {
      "cell_type": "code",
      "execution_count": 83,
      "metadata": {
        "colab": {
          "base_uri": "https://localhost:8080/"
        },
        "id": "glg2nZdcA1yz",
        "outputId": "6a33018c-2666-4ac1-c9e6-2cd2e35e4d8e"
      },
      "outputs": [
        {
          "output_type": "stream",
          "name": "stdout",
          "text": [
            "Random number: 6\n",
            "Random choice: 4\n"
          ]
        }
      ],
      "source": [
        "import random\n",
        "\n",
        "# Generate a random integer between 1 and 10\n",
        "random_number = random.randint(1, 10)\n",
        "print(f\"Random number: {random_number}\")\n",
        "\n",
        "# Generate a random choice from a list\n",
        "my_list = [1, 2, 3, 4, 5]\n",
        "random_choice = random.choice(my_list)\n",
        "print(f\"Random choice: {random_choice}\")"
      ]
    },
    {
      "cell_type": "code",
      "execution_count": 84,
      "metadata": {
        "colab": {
          "base_uri": "https://localhost:8080/"
        },
        "id": "YSpfoN1FA_8z",
        "outputId": "1f12e4f4-f9fe-4484-aa28-954cf78d83b1"
      },
      "outputs": [
        {
          "output_type": "stream",
          "name": "stdout",
          "text": [
            "Current datetime: 2025-03-11 00:12:33.231993\n",
            "Formatted datetime: 2025-03-11 00:12:33\n"
          ]
        }
      ],
      "source": [
        "import datetime\n",
        "\n",
        "# Get the current date and time\n",
        "current_datetime = datetime.datetime.now()\n",
        "print(f\"Current datetime: {current_datetime}\")\n",
        "\n",
        "# Format a datetime object as a string using strftime()\n",
        "formatted_date = current_datetime.strftime(\"%Y-%m-%d %H:%M:%S\")\n",
        "print(f\"Formatted datetime: {formatted_date}\")"
      ]
    },
    {
      "cell_type": "code",
      "execution_count": 85,
      "metadata": {
        "colab": {
          "base_uri": "https://localhost:8080/"
        },
        "id": "XHOrtgbRBX0u",
        "outputId": "89b2a53a-5d2c-461e-a944-aa6d6a4da31f"
      },
      "outputs": [
        {
          "output_type": "stream",
          "name": "stdout",
          "text": [
            "Current directory: /content\n",
            "Files in directory: ['.config', 'my_module.py', '__pycache__', 'sample_data']\n",
            "File exists: False\n"
          ]
        }
      ],
      "source": [
        "import os\n",
        "\n",
        "# Get the current working directory\n",
        "current_directory = os.getcwd()\n",
        "print(f\"Current directory: {current_directory}\")\n",
        "\n",
        "# List files in a directory\n",
        "files_in_directory = os.listdir(current_directory)\n",
        "print(f\"Files in directory: {files_in_directory}\")\n",
        "\n",
        "# Check if a file or directory exists\n",
        "file_exists = os.path.exists(\"my_file.txt\")\n",
        "print(f\"File exists: {file_exists}\")"
      ]
    },
    {
      "cell_type": "markdown",
      "metadata": {
        "id": "j9qrTXoCCjJR"
      },
      "source": [
        "# Exercises"
      ]
    },
    {
      "cell_type": "markdown",
      "metadata": {
        "id": "4hNRHdCHCyuv"
      },
      "source": [
        "\n",
        "## **1. Movie Ratings Analyzer**\n",
        "\n",
        "You are tasked with building a simple movie ratings analyzer program. The program will read user input to store and analyze movie ratings. It should provide options to:\n",
        "\n",
        "1. Add a new movie rating.\n",
        "2. View the average rating for all movies.\n",
        "3. Display the highest-rated movie.\n",
        "4. Exit the program.\n",
        "\n",
        "\n",
        "\n",
        "Below is a starter code. Your task is to complete the `add_rating`, `calculate_average_rating`, and `find_highest_rated_movie` functions."
      ]
    },
    {
      "cell_type": "code",
      "execution_count": 86,
      "metadata": {
        "colab": {
          "base_uri": "https://localhost:8080/"
        },
        "id": "ZAEYT3Z8CkWL",
        "outputId": "ff9d0d28-03c7-48a3-ad88-d3d681e203c0"
      },
      "outputs": [
        {
          "output_type": "stream",
          "name": "stdout",
          "text": [
            "\n",
            "Options:\n",
            "1. Add a new movie rating\n",
            "2. View the average rating for all movies\n",
            "3. Display the highest-rated movie\n",
            "4. Exit\n",
            "Enter your choice: 1\n",
            "Enter the movie name: Hello\n",
            "Enter the movie rating (0-10): 10\n",
            "\n",
            "Options:\n",
            "1. Add a new movie rating\n",
            "2. View the average rating for all movies\n",
            "3. Display the highest-rated movie\n",
            "4. Exit\n",
            "Enter your choice: 4\n",
            "Exiting the program.\n"
          ]
        }
      ],
      "source": [
        "# Create an empty dictionary to store movie ratings.\n",
        "movie_ratings = {}\n",
        "\n",
        "def add_rating(movie, rating):\n",
        "    # TODO: Implement the function to add a movie rating to the dictionary.\n",
        "    movie_ratings[movie] = rating   # dict_name[key] = value\n",
        "\n",
        "\n",
        "def calculate_average_rating(ratings):\n",
        "    # TODO: Implement the function to calculate and return the average rating.\n",
        "    if not ratings:\n",
        "        return 0.0\n",
        "    total = sum(ratings.values())\n",
        "    average = total/len(ratings)\n",
        "    return average\n",
        "\n",
        "\n",
        "def find_highest_rated_movie(ratings):\n",
        "    # TODO: Implement the function to find and return the highest-rated movie.\n",
        "    if not ratings:\n",
        "        return \"No movies rated yet.\"\n",
        "    highest_rated_movie = max(ratings, key=ratings.get)  # max(dict_name, key=dict_name.get)\n",
        "    return highest_rated_movie\n",
        "\n",
        "\n",
        "\n",
        "\n",
        "# Main program loop\n",
        "while True:\n",
        "    print(\"\\nOptions:\")\n",
        "    print(\"1. Add a new movie rating\")\n",
        "    print(\"2. View the average rating for all movies\")\n",
        "    print(\"3. Display the highest-rated movie\")\n",
        "    print(\"4. Exit\")\n",
        "\n",
        "    choice = input(\"Enter your choice: \")\n",
        "\n",
        "    if choice == \"1\":\n",
        "        movie = input(\"Enter the movie name: \")\n",
        "        rating = float(input(\"Enter the movie rating (0-10): \"))\n",
        "        add_rating(movie, rating)\n",
        "\n",
        "    elif choice == \"2\":\n",
        "        average = calculate_average_rating(movie_ratings)\n",
        "        print(f\"The average rating for all movies is: {average:.2f}\")\n",
        "\n",
        "    elif choice == \"3\":\n",
        "        highest_rated_movie = find_highest_rated_movie(movie_ratings)\n",
        "        print(f\"The highest-rated movie is: {highest_rated_movie}\")\n",
        "\n",
        "    elif choice == \"4\":\n",
        "        print(\"Exiting the program.\")\n",
        "        break\n",
        "\n",
        "    else:\n",
        "        print(\"Invalid choice. Please enter a valid option.\")\n"
      ]
    },
    {
      "cell_type": "markdown",
      "metadata": {
        "id": "cu7iZeCei0zs"
      },
      "source": [
        "\n",
        "### Summary of Most Useful Dictonary Methods:\n"
      ]
    },
    {
      "cell_type": "markdown",
      "metadata": {
        "id": "HLMK9NAhi0zs"
      },
      "source": [
        "| **Method**       | **Description**                                                                 | **Example**                                                                 |\n",
        "|------------------|---------------------------------------------------------------------------------|-----------------------------------------------------------------------------|\n",
        "| `keys()`         | Returns all keys in the dictionary.                                             | `my_dict = {'a': 1, 'b': 2}`<br>`print(my_dict.keys())` → `dict_keys(['a', 'b'])` |\n",
        "| `values()`       | Returns all values in the dictionary.                                           | `my_dict = {'a': 1, 'b': 2}`<br>`print(my_dict.values())` → `dict_values([1, 2])` |\n",
        "| `items()`        | Returns all key-value pairs as tuples.                                          | `my_dict = {'a': 1, 'b': 2}`<br>`print(my_dict.items())` → `dict_items([('a', 1), ('b', 2)])` |\n",
        "| `get()`          | Safely retrieves a value by key, with an optional default.                      | `my_dict = {'a': 1, 'b': 2}`<br>`print(my_dict.get('a'))` → `1`<br>`print(my_dict.get('c', 'Not Found'))` → `'Not Found'` |\n",
        "| `pop()`          | Removes and returns a value by key.                                             | `my_dict = {'a': 1, 'b': 2}`<br>`print(my_dict.pop('a'))` → `1`<br>`print(my_dict)` → `{'b': 2}` |\n",
        "| `popitem()`      | Removes and returns the last inserted key-value pair.                           | `my_dict = {'a': 1, 'b': 2}`<br>`print(my_dict.popitem())` → `('b', 2)`<br>`print(my_dict)` → `{'a': 1}` |\n",
        "| `update()`       | Updates the dictionary with key-value pairs from another dictionary.            | `my_dict = {'a': 1}`<br>`my_dict.update({'b': 2})`<br>`print(my_dict)` → `{'a': 1, 'b': 2}` |\n",
        "| `clear()`        | Removes all key-value pairs from the dictionary.                                | `my_dict = {'a': 1, 'b': 2}`<br>`my_dict.clear()`<br>`print(my_dict)` → `{}` |\n",
        "| `copy()`         | Returns a shallow copy of the dictionary.                                       | `my_dict = {'a': 1}`<br>`new_dict = my_dict.copy()`<br>`print(new_dict)` → `{'a': 1}` |\n",
        "| `setdefault()`   | Returns a value by key, or inserts a default value if the key doesn't exist.    | `my_dict = {'a': 1}`<br>`print(my_dict.setdefault('b', 2))` → `2`<br>`print(my_dict)` → `{'a': 1, 'b': 2}` |\n",
        "| `fromkeys()`     | Creates a new dictionary with keys from an iterable and a default value.        | `keys = ['a', 'b']`<br>`new_dict = dict.fromkeys(keys, 0)`<br>`print(new_dict)` → `{'a': 0, 'b': 0}` |\n",
        "| `len()`          | Returns the number of key-value pairs in the dictionary.                        | `my_dict = {'a': 1, 'b': 2}`<br>`print(len(my_dict))` → `2` |\n",
        "| `in` operator    | Checks if a key exists in the dictionary.                                       | `my_dict = {'a': 1, 'b': 2}`<br>`print('a' in my_dict)` → `True`<br>`print('c' in my_dict)` → `False` |\n",
        "| `max()`          | Returns the key with the maximum value.                                         | `my_dict = {'a': 1, 'b': 2}`<br>`print(max(my_dict, key=my_dict.get))` → `'b'` |\n",
        "| `min()`          | Returns the key with the minimum value.                                         | `my_dict = {'a': 1, 'b': 2}`<br>`print(min(my_dict, key=my_dict.get))` → `'a'` |\n",
        "| `sorted()`       | Returns a sorted list of keys or key-value pairs.                              | `my_dict = {'b': 2, 'a': 1}`<br>`print(sorted(my_dict))` → `['a', 'b']`<br>`print(sorted(my_dict.items()))` → `[('a', 1), ('b', 2)]` |\n",
        "| `zip()`          | Combines two dictionaries into a list of tuples.                                | `dict1 = {'a': 1, 'b': 2}`<br>`dict2 = {'c': 3, 'd': 4}`<br>`print(list(zip(dict1, dict2)))` → `[('a', 'c'), ('b', 'd')]` |\n",
        "| `dict()`         | Converts a list of tuples into a dictionary.                                    | `list_of_tuples = [('a', 1), ('b', 2)]`<br>`new_dict = dict(list_of_tuples)`<br>`print(new_dict)` → `{'a': 1, 'b': 2}` |\n",
        "| `torch.tensor()` | Converts a dictionary to a PyTorch tensor.                                    | `import torch`<br>`my_dict = {'a': 1, 'b': 2}`<br>`tensor = torch.tensor(list(my_dict.values()))`<br>`print(tensor)` → `tensor([1, 2])` |\n",
        "| `torch.from_numpy()` | Converts a NumPy array to a PyTorch tensor.                                    | `import numpy as np`<br>`import torch`<br>`array = np.array([1, 2])`<br>`tensor = torch.from_numpy(array)`<br>`print(tensor)` → `tensor([1, 2])` |"
      ]
    },
    {
      "cell_type": "markdown",
      "metadata": {
        "id": "gXWdRvLrEFyJ"
      },
      "source": [
        "## **2. Password Strength Checker**\n",
        "\n",
        "You are tasked with building a program that checks the strength of a user-provided password. The program should evaluate the password based on certain criteria and provide feedback on its strength. Users can enter passwords, and the program should provide options to:\n",
        "\n",
        "1. Check the strength of a password.\n",
        "2. Exit the program.\n",
        "\n",
        "\n",
        "Below is a starter code. Your task is to complete the `check_password_strength` function. This function should take a password input and assess its strength based on criteria like length, use of uppercase and lowercase characters, numbers, and special characters. You can define your own criteria for password strength.\n",
        "\n",
        "For example, you might consider a strong password to have a length of at least 8 characters, a mix of uppercase and lowercase letters, at least one number, and at least one special character."
      ]
    },
    {
      "cell_type": "code",
      "execution_count": 87,
      "metadata": {
        "colab": {
          "base_uri": "https://localhost:8080/"
        },
        "id": "vC8VMkjvC3MR",
        "outputId": "c5b76495-7824-4382-a0ee-079b80a09658"
      },
      "outputs": [
        {
          "output_type": "stream",
          "name": "stdout",
          "text": [
            "\n",
            "Options:\n",
            "1. Check the strength of a password\n",
            "2. Exit\n",
            "Enter your choice: hello_there\n",
            "Invalid choice. Please enter a valid option.\n",
            "\n",
            "Options:\n",
            "1. Check the strength of a password\n",
            "2. Exit\n",
            "Enter your choice: nothere\n",
            "Invalid choice. Please enter a valid option.\n",
            "\n",
            "Options:\n",
            "1. Check the strength of a password\n",
            "2. Exit\n",
            "Enter your choice: 2\n",
            "Exiting the program.\n"
          ]
        }
      ],
      "source": [
        "# TODO: Create a function to check the strength of a password.\n",
        "def check_password_strength(password):\n",
        "    strength = 0\n",
        "    # Check the length of the password\n",
        "    length = len(password)\n",
        "\n",
        "    if length >=8:\n",
        "        strength += 2\n",
        "    elif length >= 4:\n",
        "        strength += 1\n",
        "\n",
        "    # Check for uppercase letters\n",
        "    if any(c.isupper() for c in password):  # expression for item in iterable\n",
        "        strength += 1\n",
        "\n",
        "    # Check for numbers\n",
        "    if any(c.isdigit() for c in password):\n",
        "        strength += 1\n",
        "\n",
        "    # Check for special characters\n",
        "    if any(c.isalnum() for c in password):\n",
        "        strength += 2\n",
        "\n",
        "\n",
        "    # Determine the strength level\n",
        "    if strength >= 6:\n",
        "        return \"Very Strong\"\n",
        "    elif strength >= 4:\n",
        "        return \"Strong\"\n",
        "    elif strength >= 3:\n",
        "        return \"Medium\"\n",
        "    else:\n",
        "        return \"Weak\"\n",
        "\n",
        "\n",
        "\n",
        "# Main program loop\n",
        "while True:\n",
        "    print(\"\\nOptions:\")\n",
        "    print(\"1. Check the strength of a password\")\n",
        "    print(\"2. Exit\")\n",
        "\n",
        "    choice = input(\"Enter your choice: \")\n",
        "\n",
        "    if choice == \"1\":\n",
        "        password = input(\"Enter a password: \")\n",
        "        strength = check_password_strength(password)\n",
        "        print(f\"Password strength: {strength}\")\n",
        "\n",
        "    elif choice == \"2\":\n",
        "        print(\"Exiting the program.\")\n",
        "        break\n",
        "\n",
        "    else:\n",
        "        print(\"Invalid choice. Please enter a valid option.\")\n"
      ]
    },
    {
      "cell_type": "markdown",
      "metadata": {
        "id": "LOrB88gpi0zs"
      },
      "source": [
        "### Understanding the Syntax\n"
      ]
    },
    {
      "cell_type": "markdown",
      "metadata": {
        "id": "AHRwZdx8i0zs"
      },
      "source": [
        "\n",
        "The line of code:\n",
        "```python\n",
        "if any(c.isupper() for c in password):\n",
        "```\n",
        "is used to check if the `password` string contains at least one uppercase letter. Let's break it down step by step.\n",
        "\n",
        "##### 1. `if` Statement\n",
        "- **Purpose**: Checks whether a condition is `True` or `False`.\n",
        "- **Execution**: If the condition is `True`, the code block under the `if` statement is executed. If the condition is `False`, the code block is skipped.\n",
        "- **Condition**: `any(c.isupper() for c in password)`\n",
        "  - If this condition evaluates to `True`, the code block under the `if` statement will execute.\n",
        "\n",
        "##### 2. `any()` Function\n",
        "- **Purpose**: Takes an **iterable** (like a list, tuple, or generator) and returns `True` if **at least one** element in the iterable is `True`.\n",
        "- **Behavior**:\n",
        "  - If all elements are `False` or the iterable is empty, it returns `False`.\n",
        "- **Usage**:\n",
        "  - The iterable passed to `any()` is a **generator expression**: `c.isupper() for c in password`.\n",
        "  - The `any()` function checks if **at least one** character in the password satisfies the condition `c.isupper()`.\n",
        "\n",
        "##### 3. Generator Expression: `c.isupper() for c in password`\n",
        "- **Purpose**: A compact way to create an iterable that generates values on the fly.\n",
        "- **Syntax**:\n",
        "  ```python\n",
        "  (expression for item in iterable)\n",
        "  ```\n",
        "- **Components**:\n",
        "  - `c`: Represents each character in the `password` string as the generator iterates over it.\n",
        "  - `password`: The iterable (a string) being looped over.\n",
        "  - `c.isupper()`: The expression being evaluated for each character `c` in the `password` string. It checks if the character is an uppercase letter (e.g., `A`, `B`, `C`, etc.).\n",
        "\n",
        "##### 4. `for c in password`\n",
        "- **Purpose**: Iterates over each character in the `password` string.\n",
        "- **Syntax**:\n",
        "  ```python\n",
        "  for c in password\n",
        "  ```\n",
        "- **Components**:\n",
        "  - `c`: The loop variable that takes on the value of each character in the `password` string, one at a time.\n",
        "  - `password`: The iterable (a string) being looped over.\n",
        "\n",
        "##### 5. `in` Keyword\n",
        "- **Purpose**: Checks if an item is present in an iterable (like a string, list, or tuple).\n",
        "- **Usage in `for` Loop**: Used to iterate over each item in the iterable.\n",
        "- **Example**:\n",
        "  ```python\n",
        "  for c in password\n",
        "  ```\n",
        "  - The `in` keyword is used to iterate over each character `c` in the `password` string.\n",
        "\n",
        "#### Putting It All Together\n",
        "The line:\n",
        "```python\n",
        "if any(c.isupper() for c in password):\n",
        "```\n",
        "- **Iterates** over each character `c` in the `password` string.\n",
        "- **Checks** if `c.isupper()` is `True` for **at least one** character.\n",
        "- If **any** character is uppercase, `any()` returns `True`, and the `if` block is executed.\n",
        "\n",
        "##### Example\n",
        "If `password = \"Pass123!\"`:\n",
        "- The generator expression `c.isupper() for c in password` evaluates to:\n",
        "  - `'P'.isupper()` → `True`\n",
        "  - `'a'.isupper()` → `False`\n",
        "  - `'s'.isupper()` → `False`\n",
        "  - `'s'.isupper()` → `False`\n",
        "  - `'1'.isupper()` → `False`\n",
        "  - `'2'.isupper()` → `False`\n",
        "  - `'3'.isupper()` → `False`\n",
        "  - `'!'.isupper()` → `False`\n",
        "- Since `'P'` is uppercase, `any()` returns `True`.\n",
        "- The `if` condition is satisfied, and the code block under the `if` statement is executed.\n",
        "\n",
        "Let me know if you need further clarification! 😊"
      ]
    },
    {
      "cell_type": "markdown",
      "metadata": {
        "id": "I6uXJrcQEuYS"
      },
      "source": [
        "## **3. Shopping List Manager**\n",
        "\n",
        "You are tasked with building a simple shopping list manager program. The program should allow users to add, view, and manage items on their shopping list. Users can also check off items when they've purchased them. The program should provide options to:\n",
        "\n",
        "1. Add an item to the shopping list. (include the name of the item and its purchased status - i.e. \"purchased\" or \"not purchased\")\n",
        "2. View the current shopping list.\n",
        "3. Check off an item (mark it as purchased).\n",
        "4. Remove an item from the shopping list.\n",
        "5. Exit the program.\n",
        "\n",
        "\n",
        "Below is a starter code.Your task is to complete the `add_item`, `check_off_item`, and `remove_item` functions. The `add_item` function should add an item to the `shopping_list`, the `check_off_item` function should mark an item as purchased, and the `remove_item` function should remove an item from the list."
      ]
    },
    {
      "cell_type": "code",
      "execution_count": 88,
      "metadata": {
        "colab": {
          "base_uri": "https://localhost:8080/"
        },
        "id": "dhVjbYAuEb1R",
        "outputId": "1b30c95e-0626-4f83-f929-f48bf552e301"
      },
      "outputs": [
        {
          "output_type": "stream",
          "name": "stdout",
          "text": [
            "\n",
            "Options:\n",
            "1. Add an item to the shopping list\n",
            "2. View the current shopping list\n",
            "3. Check off an item\n",
            "4. Remove an item from the shopping list\n",
            "5. Exit\n",
            "Enter your choice: 1\n",
            "Enter the item to add: 5\n",
            "'5' has been added to the shopping list.\n",
            "\n",
            "Options:\n",
            "1. Add an item to the shopping list\n",
            "2. View the current shopping list\n",
            "3. Check off an item\n",
            "4. Remove an item from the shopping list\n",
            "5. Exit\n",
            "Enter your choice: 5\n",
            "Exiting the program.\n"
          ]
        }
      ],
      "source": [
        "# Create a list to store shopping list items.\n",
        "shopping_list = []\n",
        "\n",
        "def add_item(item):\n",
        "    # TODO: Implement the function to add an item to the shopping list.\n",
        "    pass\n",
        "\n",
        "def check_off_item(item):\n",
        "    # TODO: Implement the function to check off an item (mark it as purchased).\n",
        "    pass\n",
        "\n",
        "def remove_item(item):\n",
        "    # TODO: Implement the function to remove an item from the shopping list.\n",
        "    pass\n",
        "\n",
        "# Main program loop\n",
        "while True:\n",
        "    print(\"\\nOptions:\")\n",
        "    print(\"1. Add an item to the shopping list\")\n",
        "    print(\"2. View the current shopping list\")\n",
        "    print(\"3. Check off an item\")\n",
        "    print(\"4. Remove an item from the shopping list\")\n",
        "    print(\"5. Exit\")\n",
        "\n",
        "    choice = input(\"Enter your choice: \")\n",
        "\n",
        "    if choice == \"1\":\n",
        "        item = input(\"Enter the item to add: \")\n",
        "        add_item(item)\n",
        "        print(f\"'{item}' has been added to the shopping list.\")\n",
        "\n",
        "    elif choice == \"2\":\n",
        "        print(\"\\nShopping List:\")\n",
        "        for i, item in enumerate(shopping_list, start=1):\n",
        "            print(f\"{i}. {item}\")\n",
        "\n",
        "    elif choice == \"3\":\n",
        "        item = input(\"Enter the item to check off: \")\n",
        "        check_off_item(item)\n",
        "        print(f\"'{item}' has been checked off.\")\n",
        "\n",
        "    elif choice == \"4\":\n",
        "        item = input(\"Enter the item to remove: \")\n",
        "        remove_item(item)\n",
        "        print(f\"'{item}' has been removed from the shopping list.\")\n",
        "\n",
        "    elif choice == \"5\":\n",
        "        print(\"Exiting the program.\")\n",
        "        break\n",
        "\n",
        "    else:\n",
        "        print(\"Invalid choice. Please enter a valid option.\")\n"
      ]
    },
    {
      "cell_type": "markdown",
      "metadata": {
        "id": "lNh_MHkxi0zt"
      },
      "source": [
        "### Enumerate\n"
      ]
    },
    {
      "cell_type": "markdown",
      "metadata": {
        "id": "F9mQoRnRi0zt"
      },
      "source": [
        "\n",
        "#### What is Enumerate?\n",
        "\n",
        "The `enumerate` function in Python is a built-in function that adds a counter to an iterable and returns it as an enumerate object. This object can then be used directly in `for` loops or be converted into a list of tuples. In other words, it gives an index to each item in an iterable.\n",
        "\n",
        "#### Why Use Enumerate?\n",
        "\n",
        "The `enumerate` function is particularly useful when you need both the index and the value of each item in an iterable. It is often used in situations where you need to keep track of the position of each item while iterating over a sequence.\n",
        "\n",
        "#### Syntax\n",
        "\n",
        "```python\n",
        "enumerate(iterable, start=0)\n",
        "```\n",
        "\n",
        "- `iterable`: The iterable you want to enumerate.\n",
        "- `start`: The starting value of the counter (default is 0).\n",
        "\n",
        "#### Examples\n",
        "\n",
        "1. **Basic Usage**:\n",
        "\n",
        "```python\n",
        "fruits = [\"apple\", \"banana\", \"cherry\"]\n",
        "for index, fruit in enumerate(fruits):\n",
        "    print(f\"Index: {index}, Fruit: {fruit}\")\n",
        "```\n",
        "\n",
        "Output:"
      ]
    },
    {
      "cell_type": "markdown",
      "metadata": {
        "id": "jlEzKeFsHTvz"
      },
      "source": [
        "## **4. Creating a Dice Rolling Simulator**\n",
        "\n",
        "Create a Python class called `Dice` that represents a standard six-sided die. The `Dice` class should have the following attributes and methods:\n",
        "\n",
        "- `sides` (integer): The number of sides on the die (always 6 for a standard die).\n",
        "- `roll()`: A method that simulates rolling the die and returns a random number between 1 and 6.\n",
        "\n",
        "Next, create a class called `DiceGame` that simulates a simple dice game. The `DiceGame` class should have the following methods:\n",
        "\n",
        "- `__init__(self)`: Initializes the game with two dice objects.\n",
        "- `play(self)`: Simulates a round of the game by rolling both dice and determining the winner based on the highest roll.\n",
        "- `display_winner(self)`: Displays the winner of the game.\n",
        "\n",
        "Below is a starter code. Your task is to complete the `Dice` and `DiceGame` classes, implement the missing methods, and create a simple dice rolling game. The game should roll two dice, compare the results, and declare a winner based on the highest roll."
      ]
    },
    {
      "cell_type": "code",
      "execution_count": 89,
      "metadata": {
        "id": "w34qunFqHugb"
      },
      "outputs": [],
      "source": [
        "import random\n",
        "\n",
        "class Dice:\n",
        "    def __init__(self, sides=6):\n",
        "        # Initialize the number of sides\n",
        "        pass\n",
        "\n",
        "    def roll(self):\n",
        "        # Simulate rolling the die and return the result\n",
        "        pass\n",
        "\n",
        "class DiceGame:\n",
        "    def __init__(self):\n",
        "        # Initialize the game with two Dice objects\n",
        "        pass\n",
        "\n",
        "    def play(self):\n",
        "        # Simulate a round of the game and determine the winner\n",
        "        pass\n",
        "\n",
        "    def display_winner(self):\n",
        "        # Display the winner of the game\n",
        "        pass\n",
        "\n",
        "# Example usage:\n",
        "if __name__ == \"__main__\":\n",
        "    game = DiceGame()\n",
        "    game.play()\n",
        "    game.display_winner()"
      ]
    }
  ],
  "metadata": {
    "colab": {
      "provenance": [],
      "gpuType": "T4",
      "include_colab_link": true
    },
    "kernelspec": {
      "display_name": "Python 3",
      "name": "python3"
    },
    "language_info": {
      "codemirror_mode": {
        "name": "ipython",
        "version": 3
      },
      "file_extension": ".py",
      "mimetype": "text/x-python",
      "name": "python",
      "nbconvert_exporter": "python",
      "pygments_lexer": "ipython3",
      "version": "3.13.2"
    },
    "accelerator": "GPU"
  },
  "nbformat": 4,
  "nbformat_minor": 0
}